{
 "cells": [
  {
   "cell_type": "markdown",
   "id": "ba947bba",
   "metadata": {},
   "source": [
    "# Heat conduction and radiation verification\n",
    "Gmsh version 4.8.0, Elmer v 9.0 and pyelmer v0.3.2 are used."
   ]
  },
  {
   "cell_type": "code",
   "execution_count": 1,
   "id": "b5d3a4ba",
   "metadata": {},
   "outputs": [],
   "source": [
    "import numpy as np\n",
    "import matplotlib.pyplot as plt\n",
    "import pandas as pd"
   ]
  },
  {
   "cell_type": "markdown",
   "id": "e735ab7e",
   "metadata": {},
   "source": [
    "## Geometry, Mesh"
   ]
  },
  {
   "cell_type": "code",
   "execution_count": 2,
   "id": "24e528da",
   "metadata": {},
   "outputs": [],
   "source": [
    "from sphere_2D import mesh\n",
    "\n",
    "heater_r_in = 0.4\n",
    "heater_r_out = 0.5\n",
    "insulation_r_in = 0.9\n",
    "insulation_r_out = 1\n",
    "mesh_size = 0.01\n",
    "\n",
    "ph_heater, ph_insulation, ph_heater_in, ph_heater_out, ph_insulation_in, ph_insulation_out = mesh(heater_r_in, heater_r_out, insulation_r_in, insulation_r_out, mesh_size)"
   ]
  },
  {
   "cell_type": "markdown",
   "id": "1442de67",
   "metadata": {},
   "source": [
    "Screenshot of the mesh:\n",
    "![geometry-mesh](geometry-mesh.png)"
   ]
  },
  {
   "cell_type": "markdown",
   "id": "8826a7c2",
   "metadata": {},
   "source": [
    "## Setup\n",
    "\n",
    "The inner sphere is heated with a volumetric power of 30 kW.\n",
    "\n",
    "There is surface-to-surface radiation between inner and outer sphere and inside of the inner one. At the outer sphere there is radiation to ambient with the ambient temperature $T_{amb}=300~\\mathrm{K}$."
   ]
  },
  {
   "cell_type": "markdown",
   "id": "de0c952e",
   "metadata": {},
   "source": [
    "## Simulation"
   ]
  },
  {
   "cell_type": "code",
   "execution_count": 3,
   "id": "839fb056",
   "metadata": {},
   "outputs": [
    {
     "name": "stdout",
     "output_type": "stream",
     "text": [
      "Wrote sif-file.\n",
      "Warnings: []\n",
      "Errors: []\n",
      "Statistics: {'CPU-time': 4.43, 'real-time': 4.43}\n"
     ]
    }
   ],
   "source": [
    "from sphere_2D import elmer_setup\n",
    "from pyelmer.execute import run_elmer_grid, run_elmer_solver\n",
    "from pyelmer.post import scan_logfile\n",
    "\n",
    "elmer_setup(ph_heater, ph_insulation, ph_heater_in, ph_heater_out, ph_insulation_in, ph_insulation_out)\n",
    "run_elmer_grid(\"./simdata\", \"2d_sphere.msh\")\n",
    "run_elmer_solver(\"./simdata\")\n",
    "warn, err, stats = scan_logfile(\"./simdata\")\n",
    "print(\"Warnings:\", warn)\n",
    "print(\"Errors:\", err)\n",
    "print(\"Statistics:\", stats)"
   ]
  },
  {
   "cell_type": "markdown",
   "id": "775b7847",
   "metadata": {},
   "source": [
    "## Analytical solution:\n",
    "According to [K. Dadzis, Modeling of directional solidification of multicrystalline silicon in a\n",
    "traveling magnetic field, Dissertation, TU Bergakademie Freiberg, 2012, Online:\n",
    "http://nbn-resolving.de/urn:nbn:de:bsz:105-qucosa-117492 ] the analytical solution to the problem is given by:\n",
    "\\begin{align}\n",
    "    T_{i,o} &= \\left[ \\frac{P}{\\sigma_{sb} \\epsilon_i 4 \\pi r^2_{i,o}}+ T_a^4 \\right]^{1/4},\\\\\n",
    "    T_i(r) &= T_{i,o} + \\frac{P}{4 \\pi \\lambda_i}\\left[ \\frac{1}{r} - \\frac{1}{r_{i,o}} \\right],\\\\\n",
    "    \\epsilon_{h,i} &= \\left(\\frac{1}{\\epsilon_h} + \\frac{r_{h,o}^2}{r_{i,i}^2}\\left[\\frac{1}{\\epsilon_i} - 1\\right]\\right)^{-1}\\\\\n",
    "    T_{h,o} &= \\left[ \\frac{P}{\\sigma_{sb} \\epsilon_{hi} 4 \\pi r^2_{h,o}} + T^4_{i,i} \\right]^{1/4},\\\\\n",
    "    T_{h}(r) &= T_{h,o} + \\frac{P}{V_h}\\frac{1}{3\\lambda_{h}} \\left[\\frac{r^2_{h,o}}{2} - \\frac{r^2}{2} + \\frac{r^3_{h,i}}{r_{h,o}}-\\frac{r^3_{h,i}}{r} \\right],\n",
    "\\end{align}\n",
    "with $r_{i,i}$ and $r_{i,o}$ minimum and maximum radius of the outer \"insulation\" sphere, $r_{h,i}$ and $r_{h,o}$ min. and max. radiums of the inner \"heater\" sphere, heating power $P$, ambient Temperatrue $T_a$, Stefan-Boltzmann constant $\\sigma_{sb}$, volume of \"heater\" sphere $V_h$, and emissivity $\\epsilon$, heat conductivity $\\lambda$ of respective spheres; $\\epsilon_{h,i}$ effective emissivity between inner and outer sphere."
   ]
  },
  {
   "cell_type": "code",
   "execution_count": 4,
   "id": "99e56100",
   "metadata": {},
   "outputs": [],
   "source": [
    "P = 30000\n",
    "T_amb = 300\n",
    "\n",
    "eps_i = 0.5\n",
    "eps_h = 0.8\n",
    "lmbd_i = 0.5\n",
    "lmbd_h = 20\n",
    "sgm_sb = 5.670374419e-8\n",
    "\n",
    "r_hi = heater_r_in\n",
    "r_ho = heater_r_out\n",
    "r_ii = insulation_r_in\n",
    "r_io = insulation_r_out"
   ]
  },
  {
   "cell_type": "code",
   "execution_count": 5,
   "id": "d6f68169",
   "metadata": {},
   "outputs": [
    {
     "name": "stdout",
     "output_type": "stream",
     "text": [
      "551.193934227456\n"
     ]
    }
   ],
   "source": [
    "T_io = (P/(sgm_sb*eps_i*4*np.pi * r_io**2) + T_amb**4)**0.25\n",
    "print(T_io)"
   ]
  },
  {
   "cell_type": "code",
   "execution_count": 6,
   "id": "c26727d1",
   "metadata": {},
   "outputs": [
    {
     "name": "stdout",
     "output_type": "stream",
     "text": [
      "1081.7104112004408\n"
     ]
    }
   ],
   "source": [
    "def T_i(r):\n",
    "    return T_io + P/(4*np.pi*lmbd_i)*(1/r - 1/r_io)\n",
    "T_ii = T_i(r_ii)\n",
    "print(T_ii)"
   ]
  },
  {
   "cell_type": "code",
   "execution_count": 7,
   "id": "3be77ebb",
   "metadata": {},
   "outputs": [
    {
     "name": "stdout",
     "output_type": "stream",
     "text": [
      "1130.1975139572535\n"
     ]
    }
   ],
   "source": [
    "eps_hi = 1/( 1/eps_h + r_ho**2/r_ii**2 * (1/eps_i - 1) )\n",
    "T_ho = (P/(sgm_sb*eps_hi*4*np.pi * r_ho**2) + T_ii**4)**0.25\n",
    "print(T_ho)"
   ]
  },
  {
   "cell_type": "code",
   "execution_count": 8,
   "id": "bf106cd3",
   "metadata": {},
   "outputs": [
    {
     "name": "stdout",
     "output_type": "stream",
     "text": [
      "1155.6362138776794\n"
     ]
    }
   ],
   "source": [
    "V_h = 4/3 * np.pi * (r_ho**3 - r_hi**3)\n",
    "def T_h(r):\n",
    "    return T_ho + P/(V_h*3*lmbd_h)*(r_ho**2/2 - r**2/2 + r_hi**3/r_ho - r_hi**3/r)\n",
    "print(T_h(r_hi))"
   ]
  },
  {
   "cell_type": "markdown",
   "id": "8862bcf4",
   "metadata": {},
   "source": [
    "## Comparison\n",
    "\n",
    "Manual evaluation of numerically computed heat flux using ParaView, PlotOverLine, Save Data in csv format (extract-data.psvm)."
   ]
  },
  {
   "cell_type": "code",
   "execution_count": 9,
   "id": "f3e84a8d",
   "metadata": {},
   "outputs": [
    {
     "data": {
      "text/plain": [
       "<matplotlib.legend.Legend at 0x1d382913850>"
      ]
     },
     "execution_count": 9,
     "metadata": {},
     "output_type": "execute_result"
    },
    {
     "data": {
      "image/png": "[encoded data removed]",
      "text/plain": [
       "<Figure size 396x288 with 1 Axes>"
      ]
     },
     "metadata": {
      "needs_background": "light"
     },
     "output_type": "display_data"
    }
   ],
   "source": [
    "# analytical\n",
    "r_i = np.linspace(r_ii, r_io, 100)\n",
    "r_h = np.linspace(r_hi, r_ho, 100)\n",
    "\n",
    "# numerical\n",
    "df = pd.read_csv('./simdata/line-data.csv')\n",
    "fig, ax = plt.subplots(1, 1, figsize=(5.5, 4))\n",
    "ax.grid(linestyle=\":\")\n",
    "l1, = ax.plot(r_i, T_i(r_i), color=\"#1f77b4\")\n",
    "l2, = ax.plot(r_h, T_h(r_h), color=\"#1f77b4\")\n",
    "\n",
    "l3, = ax.plot(df['Points:0'], df['temperature'], color=\"#ff7f0e\")\n",
    "\n",
    "ax.legend([l1, l3], [\"analytical\", \"numerical\"])\n",
    "# ax.legend()\n",
    "# ax.set_xlabel('radius [m]')\n",
    "# ax.set_ylabel('joule heat $\\\\left[\\\\frac{\\\\mathrm{MW}}{\\mathrm{m}^3}\\\\right]$')\n",
    "# fig.tight_layout()\n",
    "# fig.savefig(\"verification_joule-heat.png\")\n",
    "# plt.show()"
   ]
  }
 ],
 "metadata": {
  "kernelspec": {
   "display_name": "Python 3",
   "language": "python",
   "name": "python3"
  },
  "language_info": {
   "codemirror_mode": {
    "name": "ipython",
    "version": 3
   },
   "file_extension": ".py",
   "mimetype": "text/x-python",
   "name": "python",
   "nbconvert_exporter": "python",
   "pygments_lexer": "ipython3",
   "version": "3.8.5"
  }
 },
 "nbformat": 4,
 "nbformat_minor": 5
}
