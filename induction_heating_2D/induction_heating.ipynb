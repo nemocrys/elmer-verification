{
 "cells": [
  {
   "cell_type": "markdown",
   "metadata": {},
   "source": [
    "# Induction heating verification\n",
    "\n",
    "Verification of Elmer simulations for induction heating.\n",
    "\n",
    "Theory according to S. Lupi: Fundamentals of Electroheat, Chapter 6. Springer, 2017.\n",
    "\n",
    "Simulations with Elmer v9.0, pyelmer v0.3.2 and Gmsh 4.8.0"
   ]
  },
  {
   "cell_type": "code",
   "execution_count": 1,
   "metadata": {},
   "outputs": [],
   "source": [
    "import numpy as np\n",
    "import pandas as pd\n",
    "import matplotlib.pyplot as plt"
   ]
  },
  {
   "cell_type": "markdown",
   "metadata": {},
   "source": [
    "## Sketch\n",
    "From Lupi2017 p.358:\n",
    "\n",
    "![Sketch](geometry.png)"
   ]
  },
  {
   "cell_type": "markdown",
   "metadata": {},
   "source": [
    "## Assumptions\n",
    "- Infinite axial length\n",
    "- Displacement currents neglected\n",
    "- Sinusoidal waves\n",
    "- Axisymmetric"
   ]
  },
  {
   "cell_type": "markdown",
   "metadata": {},
   "source": [
    "## Notation\n",
    "The notation is according to Lupi2017:\n",
    "- $\\dot{H}$ - time dependant value / amplitude and\n",
    "- $H$ - rms-value\n",
    "\n",
    "is used for all electromagnetic variables. Under the assumption of sinusoidal waves $H=\\frac{\\dot{H}}{\\sqrt{2}}$ applies."
   ]
  },
  {
   "cell_type": "markdown",
   "metadata": {},
   "source": [
    "## Cz-Growth parameters\n",
    "The parameters of the induction heating verification case shall be similar to the experiment.\n",
    "\n",
    "Geometry parameters:\n",
    "\\begin{align}\n",
    "    r_e &= 0.06~\\mathrm{m}\\\\\n",
    "    l_{coil} &= 0.042 \\mathrm{m}\\\\\n",
    "    N_{coil} &= 3\n",
    "\\end{align}\n",
    "\n",
    "Electromagnetic parameters:\n",
    "\\begin{align}\n",
    "    \\dot{I} &= 100~\\mathrm{A}\\\\\n",
    "    f &= 13.5 \\cdot 10^3~\\mathrm{Hz}\\\\\n",
    "    \\omega &= 2 \\pi f \\approx 84800~\\frac{1}{\\mathrm{s}}\\\\\n",
    "    \\sigma &= 5.88\\cdot 10^4~\\frac{\\mathrm{S}}{\\mathrm{m}}\\\\\n",
    "    \\rho &= \\frac{1}{\\sigma}\\\\\n",
    "\\end{align}\n",
    "\n",
    "Resulting induction heating parameters:\n",
    "\\begin{align}\n",
    "    \\delta &= \\sqrt{\\frac{2\\rho}{\\omega \\mu_0}} \\approx 0.018~\\mathrm{m}\\\\\n",
    "    m &= \\frac{\\sqrt{2}r_e}{\\delta} \\approx 4.72\\\\\n",
    "    \\dot{H}_e &= \\frac{N_{coil} \\dot{I}}{l_{coil}} \\approx 7143~\\frac{\\mathrm{A}}{\\mathrm{m}}\n",
    "\\end{align}"
   ]
  },
  {
   "cell_type": "code",
   "execution_count": 2,
   "metadata": {
    "tags": []
   },
   "outputs": [
    {
     "name": "stdout",
     "output_type": "stream",
     "text": [
      "delta = 0.017865841496117037\n",
      "m = 4.7494440024461\n"
     ]
    }
   ],
   "source": [
    "r_e = 0.06\n",
    "l = 0.042\n",
    "N = 3\n",
    "I = 100\n",
    "omega = 84800\n",
    "sigma = 5.88e4\n",
    "rho = 1/sigma\n",
    "H = N*I/l\n",
    "delta = (2 * rho / (omega * 4e-7 * np.pi))**0.5\n",
    "print(\"delta =\", delta)\n",
    "m = 2**0.5 * r_e / delta\n",
    "print('m =', m)"
   ]
  },
  {
   "cell_type": "markdown",
   "metadata": {},
   "source": [
    "## Distribution of Joule heat\n",
    "\n",
    "Current density (Lupi2017 p.361 eqn 6.9) \n",
    "\\begin{align}\n",
    "    \\dot{J} = \\sqrt{-j}\\cdot \\dot{H}_e \\cdot \\frac{\\sqrt{2}}{\\delta}\\cdot\\frac{J_1(\\sqrt{-j}\\cdot m \\xi)}{J_0(\\sqrt{-j}\\cdot m)}\n",
    "\\end{align}\n",
    "with $J_0$ and $J_1$ Bessel functions of zero and first order, respectively. An alternative formulation of this equation in Davies1990 p.96 is equal (compared Davies1990 p.96 eqn 9.10 to Lupi2017 p.362 eqn 6.9a). The resulting joule heat distribution is then given by\n",
    "\\begin{align}\n",
    "    w &= \\rho J^2 = \\rho \\frac{\\dot{J}^2}{2}\n",
    "\\end{align}"
   ]
  },
  {
   "cell_type": "code",
   "execution_count": 3,
   "metadata": {
    "tags": []
   },
   "outputs": [],
   "source": [
    "def J(xi, H, delta, m):\n",
    "    J = (-1j)**0.5 * H * 2**0.5 / delta * jv(1, (-1j)**0.5 * m * xi) / jv(0, (-1j)**0.5 * m)\n",
    "    return J"
   ]
  },
  {
   "cell_type": "markdown",
   "metadata": {},
   "source": [
    "## Total induced power\n",
    "At the outer surface of the cylinder ($\\xi=1$) applies (Lupi2017 p.362 eqn 6.11):\n",
    "\\begin{align}\n",
    "    \\dot{J}_e =  \\sqrt{-j}\\cdot \\dot{H}_e \\cdot \\frac{\\sqrt{2}}{\\delta}\\cdot \\frac{J_1(\\sqrt{-j}\\cdot m)}{J_0(\\sqrt{-j}\\cdot m)} = -\\dot{H}_e\\frac{m}{r_e} (P + j\\cdot Q)\n",
    "\\end{align}\n",
    "\n",
    "The coefficients P and Q are given by (Lupi2017 p.362 eqn 6.12):\n",
    "\\begin{align}\n",
    "    P + j\\cdot Q = - \\sqrt{-j}\\cdot \\frac{J_1(\\sqrt{-j}\\cdot m)}{J_0(\\sqrt{-j}\\cdot m)}\n",
    "\\end{align}"
   ]
  },
  {
   "cell_type": "code",
   "execution_count": 4,
   "metadata": {
    "tags": []
   },
   "outputs": [
    {
     "name": "stdout",
     "output_type": "stream",
     "text": [
      "P =  0.5992592690772168\n"
     ]
    }
   ],
   "source": [
    "from scipy.special import jv\n",
    "\n",
    "P_jQ = -np.sqrt(-1j) * jv(1, np.sqrt(-1j) * m) / jv(0, np.sqrt(-1j) * m)\n",
    "P = np.real(P_jQ)\n",
    "Q = np.imag(P_jQ)\n",
    "print('P = ', P)"
   ]
  },
  {
   "cell_type": "markdown",
   "metadata": {},
   "source": [
    "The induced power computed from Poynting vector is given by (Lupi2017 p. 367 eqn 6.17):\n",
    "\\begin{align}\n",
    "    P_w &= H_e^2 \\frac{\\rho}{\\delta} \\sqrt{2} P 2\\pi r_e l\n",
    "    = \\frac{\\dot{H}_e^2}{2} \\frac{\\rho}{\\delta} \\sqrt{2} P 2\\pi r_e l\n",
    "\\end{align}"
   ]
  },
  {
   "cell_type": "code",
   "execution_count": 5,
   "metadata": {
    "tags": []
   },
   "outputs": [
    {
     "name": "stdout",
     "output_type": "stream",
     "text": [
      "P_w = 325.85418077478806 W\n"
     ]
    }
   ],
   "source": [
    "P_w = H**2 / 2 * rho / delta * 2**0.5 * P * 2 * np.pi * r_e * l\n",
    "print('P_w =', P_w, 'W')"
   ]
  },
  {
   "cell_type": "markdown",
   "metadata": {},
   "source": [
    "## Elmer Simulation\n",
    "### Parameters\n",
    "For to fulfill the assumption of an infinite domain, the inner section (of length $l$) of a long coil ($l_{tot} >> 2r_i$) is analyzed. This is controlled by the parameter\n",
    "\\begin{align}\n",
    "    n_l = \\frac{l_{tot}}{l}\n",
    "\\end{align}"
   ]
  },
  {
   "cell_type": "code",
   "execution_count": 6,
   "metadata": {
    "tags": []
   },
   "outputs": [
    {
     "name": "stdout",
     "output_type": "stream",
     "text": [
      "l_tot = 0.8400000000000001 m\n"
     ]
    }
   ],
   "source": [
    "n_l = 20\n",
    "l_tot = n_l * l\n",
    "print('l_tot =', l_tot, 'm')"
   ]
  },
  {
   "cell_type": "markdown",
   "metadata": {},
   "source": [
    "For the coil (modeled by a rectangle) the following values are set:\n",
    "\\begin{align}\n",
    "    N_{coil} &= 1\\\\\n",
    "    I &= \\frac{\\dot{H}_e l_{tot}}{N_{coil}}\\\\\n",
    "    r_i &= {0.04}~\\mathrm{m}\\\\\n",
    "    d &= {0.01}~\\mathrm{m}\n",
    "\\end{align}"
   ]
  },
  {
   "cell_type": "code",
   "execution_count": 7,
   "metadata": {
    "tags": []
   },
   "outputs": [
    {
     "name": "stdout",
     "output_type": "stream",
     "text": [
      "I = 6000.0 A\n"
     ]
    }
   ],
   "source": [
    "N = 1\n",
    "r_i = 0.07\n",
    "d = 0.01\n",
    "\n",
    "I = H * l_tot / N\n",
    "print('I =', I, 'A')"
   ]
  },
  {
   "cell_type": "markdown",
   "metadata": {},
   "source": [
    "### Geometry modeling\n",
    "Geometry and mesh generation using Gmsh, using the refinement factor $\\alpha_{mesh}$."
   ]
  },
  {
   "cell_type": "code",
   "execution_count": 8,
   "metadata": {},
   "outputs": [],
   "source": [
    "from induction_heating import geometry\n",
    "\n",
    "alpha_mesh = 1.5\n",
    "ph_cylinder, ph_cylinder_ends, ph_coil, ph_air, ph_cylinder_surf, ph_outside_surfs = geometry(l, n_l, r_e, r_i, d, alpha_mesh=alpha_mesh, with_cylinder=True)"
   ]
  },
  {
   "cell_type": "markdown",
   "metadata": {},
   "source": [
    "Overview of the mesh:\n",
    "\n",
    "![mesh](mesh.png)\n",
    "\n",
    "Zoom at the cylinder in the center of the coil:\n",
    "\n",
    "![mesh-zoom](mesh-zoom.png)"
   ]
  },
  {
   "cell_type": "markdown",
   "metadata": {},
   "source": [
    "### Solvers\n",
    "Use solver *MagnetoDynamics2DHarmonic* and *MagnetoDynamicsCalcFields* or *StatMagSolver* to evaluate electromagnetics. These solvers are active in the whole domain.\n",
    "\n",
    "The solver *HeatSolver* is only active in the cylinder in the middle of the coil, where the induction heating is to be analyzed.\n",
    "\n",
    "### Boundary conditions\n",
    "**Electromagnetics:** A potential of zero is prescibed at the outer surfaces.\n",
    "\n",
    "**Thermodynamics:** At the top and bottom boundaries (inner cylinder to top and bottom one), no boundary conditions is prescribed, which means that a natural boundary condition with zero heat flux applies. At the outer surface of the cylinder a fixed temperature of 20°C is set.\n",
    "\n",
    "### Evaluation\n",
    "The heat flux over this boundary, which is in the steady state equal to the induced heat, is analyzed by summing up the *boundary loads* using the *SaveScalars* solver. The value is written to *scalars.dat*. The value needs to be multiplied by $2\\pi$ to get the total power in Watt."
   ]
  },
  {
   "cell_type": "code",
   "execution_count": 9,
   "metadata": {
    "tags": []
   },
   "outputs": [
    {
     "name": "stdout",
     "output_type": "stream",
     "text": [
      "Wrote sif-file.\n"
     ]
    }
   ],
   "source": [
    "from induction_heating import sif\n",
    "from pyelmer import execute\n",
    "\n",
    "sif(ph_cylinder, ph_cylinder_ends, ph_coil, ph_air, ph_cylinder_surf, ph_outside_surfs, omega, I, rho, d, l_tot, mgdyn=False, with_cylinder=True)"
   ]
  },
  {
   "cell_type": "code",
   "execution_count": 10,
   "metadata": {},
   "outputs": [],
   "source": [
    "execute.run_elmer_grid('./simdata/', 'induction_verification.msh2')\n",
    "execute.run_elmer_solver('./simdata/')"
   ]
  },
  {
   "cell_type": "markdown",
   "metadata": {},
   "source": [
    "## Evaluation of joule heat\n",
    "Manual extraction using ParaView, PlotOverLine (center of cylinder) -> Save Data (as csv). The ParaView state file used to extract the data shown here is stored under simdata/extract-data.psvm"
   ]
  },
  {
   "cell_type": "code",
   "execution_count": 11,
   "metadata": {
    "tags": []
   },
   "outputs": [
    {
     "data": {
      "image/png": "[encoded data removed]",
      "text/plain": [
       "<Figure size 396x288 with 1 Axes>"
      ]
     },
     "metadata": {
      "needs_background": "light"
     },
     "output_type": "display_data"
    }
   ],
   "source": [
    "# analytical\n",
    "xi = np.linspace(0, 1, 100)\n",
    "J_xi = J(xi, H, delta, m)\n",
    "w = rho * np.abs(J_xi)**2 / 2\n",
    "# numerical\n",
    "df = pd.read_csv('./simdata/line-data.csv')\n",
    "\n",
    "fig, ax = plt.subplots(1, 1, figsize=(5.5, 4))\n",
    "ax.grid(linestyle=\":\")\n",
    "line, = ax.plot(xi * r_e, w/1e6)\n",
    "line.set_label('analytical')\n",
    "line, = ax.plot(df['Points:0'], df['joule heating']/1e6)\n",
    "line.set_label('numerical')\n",
    "ax.legend()\n",
    "ax.set_xlabel('radius [m]')\n",
    "ax.set_ylabel('joule heat $\\\\left[\\\\frac{\\\\mathrm{MW}}{\\mathrm{m}^3}\\\\right]$')\n",
    "fig.tight_layout()\n",
    "fig.savefig(\"verification_joule-heat.png\")\n",
    "plt.show()"
   ]
  },
  {
   "cell_type": "markdown",
   "metadata": {},
   "source": [
    "## Evaluation of total induced power\n",
    "Read induced power computed by Elmer and compare it to analytical computed value."
   ]
  },
  {
   "cell_type": "code",
   "execution_count": 12,
   "metadata": {
    "tags": []
   },
   "outputs": [
    {
     "name": "stdout",
     "output_type": "stream",
     "text": [
      "Analytical: \tP_w = 325.85418077478806 W\n",
      "Elmer: \t\tP_w = 323.7300617881577 W\n",
      "\n",
      "Deviation:\t -0.6518618179394939 %\n"
     ]
    }
   ],
   "source": [
    "with open('./simdata/scalars.dat') as f:\n",
    "    data = f.readlines()\n",
    "last_iteration = data[-1]\n",
    "P_w_elmer = -1*float(last_iteration.split('   ')[0]) * 2*np.pi\n",
    "\n",
    "print('Analytical: \\tP_w =', P_w, 'W')\n",
    "print('Elmer: \\t\\tP_w =', P_w_elmer, 'W')\n",
    "\n",
    "dev = (P_w_elmer - P_w) / P_w\n",
    "print('')\n",
    "print('Deviation:\\t', dev * 100, '%')"
   ]
  }
 ],
 "metadata": {
  "kernelspec": {
   "display_name": "Python 3",
   "language": "python",
   "name": "python3"
  },
  "language_info": {
   "codemirror_mode": {
    "name": "ipython",
    "version": 3
   },
   "file_extension": ".py",
   "mimetype": "text/x-python",
   "name": "python",
   "nbconvert_exporter": "python",
   "pygments_lexer": "ipython3",
   "version": "3.8.5"
  }
 },
 "nbformat": 4,
 "nbformat_minor": 4
}
