{
 "metadata": {
  "language_info": {
   "codemirror_mode": {
    "name": "ipython",
    "version": 3
   },
   "file_extension": ".py",
   "mimetype": "text/x-python",
   "name": "python",
   "nbconvert_exporter": "python",
   "pygments_lexer": "ipython3",
   "version": "3.7.6-final"
  },
  "orig_nbformat": 2,
  "kernelspec": {
   "name": "python_defaultSpec_1598881443949",
   "display_name": "Python 3.7.6 64-bit ('enders-seidlitz': virtualenv)"
  }
 },
 "nbformat": 4,
 "nbformat_minor": 2,
 "cells": [
  {
   "cell_type": "markdown",
   "metadata": {},
   "source": [
    "# Induction heating verification\n",
    "\n",
    "Verification of Elmer simulations for induction heating.\n",
    "\n",
    "Theory according to S. Lupi: Fundamentals of Electroheat. Springer, 2017 (Chapter 6)."
   ]
  },
  {
   "cell_type": "code",
   "execution_count": 1,
   "metadata": {},
   "outputs": [],
   "source": [
    "import numpy as np\n",
    "import pandas as pd\n",
    "import matplotlib.pyplot as plt"
   ]
  },
  {
   "cell_type": "markdown",
   "metadata": {},
   "source": [
    "## Sketch\n",
    "From Lupi2017 p.358:\n",
    "\n",
    "![Sketch](geometry.png)"
   ]
  },
  {
   "cell_type": "markdown",
   "metadata": {},
   "source": [
    "## Assumptions\n",
    "- Infinite axial length\n",
    "- Displacement currents neglected\n",
    "- Sinusoidal waves\n",
    "- Axisymmetric"
   ]
  },
  {
   "cell_type": "markdown",
   "metadata": {},
   "source": [
    "## Notation\n",
    "The notation is according to Lupi2017:\n",
    "- $\\dot{H}$ - time dependant value / amplitude and\n",
    "- $H$ - rms-value\n",
    "\n",
    "is used for all electromagnetic variables. Under the assumption of sinusoidal waves $H=\\frac{\\dot{H}}{\\sqrt{2}}$ applies."
   ]
  },
  {
   "cell_type": "markdown",
   "metadata": {},
   "source": [
    "## Cz-Growth parameters\n",
    "Parameters of induction heating in Cz-Test experiments (Experiments/Test-CZ/Sn growth/2020-06-18 growth_with_ROT_reference to numerics).\n",
    "\n",
    "Geometry parameters:\n",
    "\\begin{align}\n",
    "    r_e &= 0.035~\\mathrm{m}\\\\\n",
    "    l_{coil} &= 0.066 \\mathrm{m}\\\\\n",
    "    N_{coil} &= 4.5\n",
    "\\end{align}\n",
    "\n",
    "Electromagnetic parameters:\n",
    "\\begin{align}\n",
    "    \\dot{I} &= 104.7~\\mathrm{A}\\\\\n",
    "    f &= 13.4 \\cdot 10^3~\\mathrm{Hz}\\\\\n",
    "    \\omega &= 2 \\pi f \\approx 84200~\\frac{1}{\\mathrm{s}}\\\\\n",
    "    \\sigma &= 5.88\\cdot 10^4~\\frac{\\mathrm{S}}{\\mathrm{m}}\\\\\n",
    "    \\rho &= \\frac{1}{\\sigma} \\approx 1.7 \\cdot 10^{-5}~\\mathrm{\\Omega m}\\\\\n",
    "\\end{align}\n",
    "\n",
    "Resulting induction heating parameters:\n",
    "\\begin{align}\n",
    "    \\delta &= \\sqrt{\\frac{2\\rho}{\\omega \\mu_0}} \\approx 0.018~\\mathrm{m}\\\\\n",
    "    m &= \\frac{\\sqrt{2}r_e}{\\delta} \\approx 2.75\\\\\n",
    "    \\dot{H}_e &= \\frac{N_{coil} \\dot{I}}{l_{coil}} \\approx 7138~\\frac{\\mathrm{A}}{\\mathrm{m}}\n",
    "\\end{align}\n",
    "\n"
   ]
  },
  {
   "cell_type": "markdown",
   "metadata": {},
   "source": [
    "## Verification case\n",
    "\n",
    "### Parameters\n",
    "\n",
    "Selected parameters:\n",
    "\\begin{align}\n",
    "    \\delta &= 0.018\\\\\n",
    "    \\dot{H}_e &= 7138~\\frac{\\mathrm{A}}{\\mathrm{m}}\\\\\n",
    "    \\omega &= 84200~\\frac{1}{\\mathrm{s}}\\\\\n",
    "    r_e &= 0.035~\\mathrm{m}\\\\\n",
    "    l &= 0.05~\\mathrm{m}  \\\\\n",
    "    N_{coil} &= 4\n",
    "\\end{align}\n",
    "\n",
    "Resulting parameters:\n",
    "\\begin{align}\n",
    "    m &= \\frac{\\sqrt{2}r_e}{\\delta}\\\\\n",
    "    \\rho &= \\frac{\\delta^2 \\omega \\mu_0}{2}\n",
    "\\end{align}\n"
   ]
  },
  {
   "cell_type": "code",
   "execution_count": 2,
   "metadata": {
    "tags": []
   },
   "outputs": [
    {
     "output_type": "stream",
     "name": "stdout",
     "text": "m = 2.749859704614352\nrho = 1.7141032172810484e-05 Ohm m\n"
    }
   ],
   "source": [
    "delta = 0.018\n",
    "H = 7138\n",
    "omega = 84200\n",
    "r_e = 0.035\n",
    "l = 0.05\n",
    "\n",
    "m = 2**0.5 * r_e / delta\n",
    "print('m =', m)\n",
    "\n",
    "rho = delta**2 * omega * 4e-7*np.pi / 2\n",
    "print('rho =', rho, 'Ohm m')"
   ]
  },
  {
   "cell_type": "markdown",
   "metadata": {},
   "source": [
    "### Induction heating\n",
    "Current density (Lupi2017 p.361 eqn 6.9) \n",
    "\\begin{align}\n",
    "    \\dot{J} = \\sqrt{-j}\\cdot \\dot{H}_e \\cdot \\frac{\\sqrt{2}}{\\delta}\\cdot\\frac{J_1(\\sqrt{-j}\\cdot m \\xi)}{J_0(\\sqrt{-j}\\cdot m)}\n",
    "\\end{align}\n",
    "with $J_0$ and $J_1$ Bessel functions of zero and first order, respectively. An alternative formulation of this equation in Davies1990 p.96 is equal (compared Davies1990 p.96 eqn 9.10 to Lupi2017 p.362 eqn 6.9a). At the outer surface of the cylinder ($\\xi=1$) applies (Lupi2017 p.362 eqn 6.11):\n",
    "\\begin{align}\n",
    "    \\dot{J}_e =  \\sqrt{-j}\\cdot \\dot{H}_e \\cdot \\frac{\\sqrt{2}}{\\delta}\\cdot \\frac{J_1(\\sqrt{-j}\\cdot m)}{J_0(\\sqrt{-j}\\cdot m)} = -\\dot{H}_e\\frac{m}{r_e} (P + j\\cdot Q)\n",
    "\\end{align}\n",
    "\n",
    "The coefficients P and Q are given by (Lupi2017 p.362 eqn 6.12):\n",
    "\\begin{align}\n",
    "    P + j\\cdot Q = - \\sqrt{-j}\\cdot \\frac{J_1(\\sqrt{-j}\\cdot m)}{J_0(\\sqrt{-j}\\cdot m)}\n",
    "\\end{align}"
   ]
  },
  {
   "cell_type": "code",
   "execution_count": 3,
   "metadata": {
    "tags": []
   },
   "outputs": [
    {
     "output_type": "stream",
     "name": "stdout",
     "text": "P =  0.5123733794894497\n"
    }
   ],
   "source": [
    "from scipy.special import jv\n",
    "\n",
    "P_jQ = -np.sqrt(-1j) * jv(1, np.sqrt(-1j) * m) / jv(0, np.sqrt(-1j) * m)\n",
    "P = np.real(P_jQ)\n",
    "Q = np.imag(P_jQ)\n",
    "print('P = ', P)"
   ]
  },
  {
   "cell_type": "markdown",
   "metadata": {},
   "source": [
    "The induced power computed from Poynting vector is given by (Lupi2017 p. 367 eqn 6.17):\n",
    "\\begin{align}\n",
    "    P_w &= H_e^2 \\frac{\\rho}{\\delta} \\sqrt{2} P 2\\pi r_e l\n",
    "    = \\frac{\\dot{H}_e^2}{2} \\frac{\\rho}{\\delta} \\sqrt{2} P 2\\pi r_e l\n",
    "\\end{align}"
   ]
  },
  {
   "cell_type": "code",
   "execution_count": 4,
   "metadata": {
    "tags": []
   },
   "outputs": [
    {
     "output_type": "stream",
     "name": "stdout",
     "text": "P_w = 193.2889510284226 W\n"
    }
   ],
   "source": [
    "P_w = H**2 / 2 * rho / delta * 2**0.5 * P * 2 * np.pi * r_e * l\n",
    "print('P_w =', P_w, 'W')"
   ]
  },
  {
   "cell_type": "markdown",
   "metadata": {},
   "source": [
    "# Elmer Simulation\n",
    "## Parameters\n",
    "For to fulfill the assumption of an infinite domain, the inner section (of length $l$) of a long coil ($l_{tot} >> 2r_i$) is analyzed. This is controlled by the parameter\n",
    "\\begin{align}\n",
    "    n_l = \\frac{l_{tot}}{l}\n",
    "\\end{align}"
   ]
  },
  {
   "cell_type": "code",
   "execution_count": 5,
   "metadata": {},
   "outputs": [],
   "source": [
    "n_l = 10"
   ]
  },
  {
   "cell_type": "markdown",
   "metadata": {},
   "source": [
    "\n",
    "## Setup\n",
    "The following values are set:\n",
    "\\begin{align}\n",
    "    r_e &= 0.035~\\mathrm{m}\\\\\n",
    "    l &= 0.05~\\mathrm{m}\\\\\n",
    "    \\dot{H}_e &= 7138~\\frac{\\mathrm{A}}{\\mathrm{m}}\n",
    "\\end{align}"
   ]
  },
  {
   "cell_type": "code",
   "execution_count": 6,
   "metadata": {
    "tags": []
   },
   "outputs": [
    {
     "output_type": "stream",
     "name": "stdout",
     "text": "l_tot = 0.5 m\n"
    }
   ],
   "source": [
    "r_e = 0.035\n",
    "l = 0.05\n",
    "H = 7138\n",
    "l_tot = n_l * l\n",
    "print('l_tot =', l_tot, 'm')"
   ]
  },
  {
   "cell_type": "markdown",
   "metadata": {},
   "source": [
    "For the coil (modeled by a rectangle) the following values are set:\n",
    "\\begin{align}\n",
    "    N_{coil} &= 1\\\\\n",
    "    I &= \\frac{\\dot{H}_e l_{tot}}{N_{coil}}\\\\\n",
    "    r_i &= {0.04}~\\mathrm{m}\\\\\n",
    "    d &= {0.01}~\\mathrm{m}\n",
    "\\end{align}"
   ]
  },
  {
   "cell_type": "code",
   "execution_count": 7,
   "metadata": {
    "tags": []
   },
   "outputs": [
    {
     "output_type": "stream",
     "name": "stdout",
     "text": "I = 3569.0 A\n"
    }
   ],
   "source": [
    "N = 1\n",
    "r_i = 0.04\n",
    "d = 0.01\n",
    "\n",
    "I = H * l_tot / N\n",
    "print('I =', I, 'A')"
   ]
  },
  {
   "cell_type": "markdown",
   "metadata": {},
   "source": [
    "## Geometry modeling\n",
    "Geometry and mesh generation using Gmsh, using the refinement factor $\\alpha_{mesh}$."
   ]
  },
  {
   "cell_type": "code",
   "execution_count": 8,
   "metadata": {},
   "outputs": [],
   "source": [
    "alpha_mesh = 1"
   ]
  },
  {
   "cell_type": "markdown",
   "metadata": {},
   "source": [
    "### Mesh analyzed by hand\n",
    "Parameters:\n",
    "- $n_l = 10$\n",
    "- $\\alpha_{mesh}$ = 1\n",
    "\n",
    "Number of triangles: 84271\n",
    "\n",
    "Overview of the mesh:\n",
    "\n",
    "![Overview](mesh_overview.png)\n",
    "\n",
    "Zoom at cylinder:\n",
    "\n",
    "![Cylinder](mesh_zoom.png)"
   ]
  },
  {
   "cell_type": "markdown",
   "metadata": {},
   "source": [
    "## Elmer setup\n",
    "### Solvers\n",
    "Use solver *MagnetoDynamics2DHarmonic* and *MagnetoDynamicsCalcFields* or *StatMagSolver* to evaluate electromagnetics. These solvers are active in the whole domain.\n",
    "\n",
    "The solver *HeatSolver* is only active in the cylinder in the middle of the coil, where the induction heating is to be analyzed.\n",
    "\n",
    "### Boundary conditions\n",
    "**Electromagnetics:** A potential of zero is prescibed at the outer surfaces.\n",
    "\n",
    "**Thermodynamics:** At the top and bottom boundaries (inner cylinder to top and bottom one), no boundary conditions is prescribed, which means that a natural boundary condition with zero heat flux applies. At the outer surface of the cylinder a fixed temperature of 20°C is set.\n",
    "\n",
    "### Evaluation\n",
    "The heat flux over this boundary, which is in the steady state equal to the induced heat, is analyzed by summing up the *boundary loads* using the *SaveScalars* solver. The value is written to *scalars.dat*. The value needs to be multiplied by $2\\pi$ to get the total power in Watt."
   ]
  },
  {
   "cell_type": "code",
   "execution_count": 9,
   "metadata": {
    "tags": []
   },
   "outputs": [
    {
     "output_type": "stream",
     "name": "stdout",
     "text": "Wrote  case.sif\n"
    }
   ],
   "source": [
    "from induction_heating import geometry, sif, run_elmer, geometry_quad\n",
    "\n",
    "ph_cylinder, ph_cylinder_ends, ph_coil, ph_air, ph_cylinder_surf, ph_outside_surfs = geometry(l, n_l, r_e, r_i, d, alpha_mesh=alpha_mesh)\n",
    "sif(ph_cylinder, ph_cylinder_ends, ph_coil, ph_air, ph_cylinder_surf, ph_outside_surfs, omega, I, rho, d, l_tot, mgdyn=False)\n",
    "run_elmer()"
   ]
  },
  {
   "cell_type": "markdown",
   "metadata": {},
   "source": [
    "## Evaluation\n",
    "Read induced power computed by Elmer and compare it to analytical computed value."
   ]
  },
  {
   "cell_type": "code",
   "execution_count": 10,
   "metadata": {
    "tags": []
   },
   "outputs": [
    {
     "output_type": "stream",
     "name": "stdout",
     "text": "Analytical: \tP_w = 193.2889510284226 W\nElmer: \t\tP_w = 188.44528861967396 W\n\nDeviation:\t -2.5059178928630956 %\n"
    }
   ],
   "source": [
    "with open('./simdata/scalars.dat') as f:\n",
    "    data = f.readlines()\n",
    "last_iteration = data[-1]\n",
    "P_w_elmer = -1*float(last_iteration.split('   ')[0]) * 2*np.pi\n",
    "\n",
    "print('Analytical: \\tP_w =', P_w, 'W')\n",
    "print('Elmer: \\t\\tP_w =', P_w_elmer, 'W')\n",
    "\n",
    "dev = (P_w_elmer - P_w) / P_w\n",
    "print('')\n",
    "print('Deviation:\\t', dev * 100, '%')"
   ]
  },
  {
   "cell_type": "markdown",
   "metadata": {},
   "source": [
    "## Parameter study (StatMag solver)\n",
    "\n",
    "**Variable $alpha_{mesh}$**:\n",
    "\n",
    "$\\alpha_{mesh}$ | $~n_l~$ | Deviation\n",
    "--- | --- | ---\n",
    "4 | 10 | -1.84 %\n",
    "2 | 10 | -2.37 %\n",
    "1 | 10 | -2.51 %\n",
    "0.5 | 10 | -2.54 %\n",
    "\n",
    "**Variable $n_l$**:\n",
    "\n",
    "$\\alpha_{mesh}$ | $~n_l~$ | Deviation\n",
    "--- | --- | ---\n",
    "1 | 10 | -2.51 %\n",
    "1 | 15 | -1.57 %\n",
    "1 | 20 | -1.28 %\n",
    "1 | 25 | -1.19 %\n"
   ]
  },
  {
   "cell_type": "markdown",
   "metadata": {},
   "source": [
    "## Evaluation of joule heat\n",
    "\n",
    "### Analytical solution\n",
    "\\begin{align}\n",
    "    \\dot{J} &= \\sqrt{-j} \\dot{H}_e \\frac{\\sqrt{2}}{\\delta}\\frac{J_1(\\sqrt{-j}\\cdot m \\xi)}{J_0(\\sqrt{-j}\\cdot m)}\\\\\n",
    "    w &= \\rho J^2 = \\rho \\frac{\\dot{J}^2}{2}\n",
    "\\end{align}\n",
    "### Simulation\n",
    "The base setup using\n",
    "\n",
    "- $\\alpha_{mesh} = 1$ and\n",
    "- $n_l = 10$\n",
    "\n",
    "is applied in this comparison."
   ]
  },
  {
   "cell_type": "code",
   "execution_count": 11,
   "metadata": {
    "tags": []
   },
   "outputs": [],
   "source": [
    "def J(xi, H, delta, m):\n",
    "    J = (-1j)**0.5 * H * 2**0.5 / delta * jv(1, (-1j)**0.5 * m * xi) / jv(0, (-1j)**0.5 * m)\n",
    "    return J"
   ]
  },
  {
   "cell_type": "code",
   "execution_count": 13,
   "metadata": {
    "tags": []
   },
   "outputs": [
    {
     "output_type": "execute_result",
     "data": {
      "text/plain": "Text(0, 0.5, 'q in W/m^3')"
     },
     "metadata": {},
     "execution_count": 13
    },
    {
     "output_type": "display_data",
     "data": {
      "text/plain": "<Figure size 864x576 with 1 Axes>",
      "image/svg+xml": "<?xml version=\"1.0\" encoding=\"utf-8\" standalone=\"no\"?>\r\n<!DOCTYPE svg PUBLIC \"-//W3C//DTD SVG 1.1//EN\"\r\n  \"http://www.w3.org/Graphics/SVG/1.1/DTD/svg11.dtd\">\r\n<!-- Created with matplotlib (https://matplotlib.org/) -->\r\n<svg height=\"479.63625pt\" version=\"1.1\" viewBox=\"0 0 749.215625 479.63625\" width=\"749.215625pt\" xmlns=\"http://www.w3.org/2000/svg\" xmlns:xlink=\"http://www.w3.org/1999/xlink\">\r\n <defs>\r\n  <style type=\"text/css\">\r\n*{stroke-linecap:butt;stroke-linejoin:round;}\r\n  </style>\r\n </defs>\r\n <g id=\"figure_1\">\r\n  <g id=\"patch_1\">\r\n   <path d=\"M 0 479.63625 \r\nL 749.215625 479.63625 \r\nL 749.215625 0 \r\nL 0 0 \r\nz\r\n\" style=\"fill:none;\"/>\r\n  </g>\r\n  <g id=\"axes_1\">\r\n   <g id=\"patch_2\">\r\n    <path d=\"M 72.415625 442.08 \r\nL 742.015625 442.08 \r\nL 742.015625 7.2 \r\nL 72.415625 7.2 \r\nz\r\n\" style=\"fill:#ffffff;\"/>\r\n   </g>\r\n   <g id=\"matplotlib.axis_1\">\r\n    <g id=\"xtick_1\">\r\n     <g id=\"line2d_1\">\r\n      <path clip-path=\"url(#p9875ae2167)\" d=\"M 102.851989 442.08 \r\nL 102.851989 7.2 \r\n\" style=\"fill:none;stroke:#b0b0b0;stroke-linecap:square;stroke-width:0.8;\"/>\r\n     </g>\r\n     <g id=\"line2d_2\">\r\n      <defs>\r\n       <path d=\"M 0 0 \r\nL 0 3.5 \r\n\" id=\"m3e2f881884\" style=\"stroke:#000000;stroke-width:0.8;\"/>\r\n      </defs>\r\n      <g>\r\n       <use style=\"stroke:#000000;stroke-width:0.8;\" x=\"102.851989\" xlink:href=\"#m3e2f881884\" y=\"442.08\"/>\r\n      </g>\r\n     </g>\r\n     <g id=\"text_1\">\r\n      <!-- 0.000 -->\r\n      <defs>\r\n       <path d=\"M 31.78125 66.40625 \r\nQ 24.171875 66.40625 20.328125 58.90625 \r\nQ 16.5 51.421875 16.5 36.375 \r\nQ 16.5 21.390625 20.328125 13.890625 \r\nQ 24.171875 6.390625 31.78125 6.390625 \r\nQ 39.453125 6.390625 43.28125 13.890625 \r\nQ 47.125 21.390625 47.125 36.375 \r\nQ 47.125 51.421875 43.28125 58.90625 \r\nQ 39.453125 66.40625 31.78125 66.40625 \r\nz\r\nM 31.78125 74.21875 \r\nQ 44.046875 74.21875 50.515625 64.515625 \r\nQ 56.984375 54.828125 56.984375 36.375 \r\nQ 56.984375 17.96875 50.515625 8.265625 \r\nQ 44.046875 -1.421875 31.78125 -1.421875 \r\nQ 19.53125 -1.421875 13.0625 8.265625 \r\nQ 6.59375 17.96875 6.59375 36.375 \r\nQ 6.59375 54.828125 13.0625 64.515625 \r\nQ 19.53125 74.21875 31.78125 74.21875 \r\nz\r\n\" id=\"DejaVuSans-48\"/>\r\n       <path d=\"M 10.6875 12.40625 \r\nL 21 12.40625 \r\nL 21 0 \r\nL 10.6875 0 \r\nz\r\n\" id=\"DejaVuSans-46\"/>\r\n      </defs>\r\n      <g transform=\"translate(88.537926 456.678437)scale(0.1 -0.1)\">\r\n       <use xlink:href=\"#DejaVuSans-48\"/>\r\n       <use x=\"63.623047\" xlink:href=\"#DejaVuSans-46\"/>\r\n       <use x=\"95.410156\" xlink:href=\"#DejaVuSans-48\"/>\r\n       <use x=\"159.033203\" xlink:href=\"#DejaVuSans-48\"/>\r\n       <use x=\"222.65625\" xlink:href=\"#DejaVuSans-48\"/>\r\n      </g>\r\n     </g>\r\n    </g>\r\n    <g id=\"xtick_2\">\r\n     <g id=\"line2d_3\">\r\n      <path clip-path=\"url(#p9875ae2167)\" d=\"M 189.813028 442.08 \r\nL 189.813028 7.2 \r\n\" style=\"fill:none;stroke:#b0b0b0;stroke-linecap:square;stroke-width:0.8;\"/>\r\n     </g>\r\n     <g id=\"line2d_4\">\r\n      <g>\r\n       <use style=\"stroke:#000000;stroke-width:0.8;\" x=\"189.813028\" xlink:href=\"#m3e2f881884\" y=\"442.08\"/>\r\n      </g>\r\n     </g>\r\n     <g id=\"text_2\">\r\n      <!-- 0.005 -->\r\n      <defs>\r\n       <path d=\"M 10.796875 72.90625 \r\nL 49.515625 72.90625 \r\nL 49.515625 64.59375 \r\nL 19.828125 64.59375 \r\nL 19.828125 46.734375 \r\nQ 21.96875 47.46875 24.109375 47.828125 \r\nQ 26.265625 48.1875 28.421875 48.1875 \r\nQ 40.625 48.1875 47.75 41.5 \r\nQ 54.890625 34.8125 54.890625 23.390625 \r\nQ 54.890625 11.625 47.5625 5.09375 \r\nQ 40.234375 -1.421875 26.90625 -1.421875 \r\nQ 22.3125 -1.421875 17.546875 -0.640625 \r\nQ 12.796875 0.140625 7.71875 1.703125 \r\nL 7.71875 11.625 \r\nQ 12.109375 9.234375 16.796875 8.0625 \r\nQ 21.484375 6.890625 26.703125 6.890625 \r\nQ 35.15625 6.890625 40.078125 11.328125 \r\nQ 45.015625 15.765625 45.015625 23.390625 \r\nQ 45.015625 31 40.078125 35.4375 \r\nQ 35.15625 39.890625 26.703125 39.890625 \r\nQ 22.75 39.890625 18.8125 39.015625 \r\nQ 14.890625 38.140625 10.796875 36.28125 \r\nz\r\n\" id=\"DejaVuSans-53\"/>\r\n      </defs>\r\n      <g transform=\"translate(175.498965 456.678437)scale(0.1 -0.1)\">\r\n       <use xlink:href=\"#DejaVuSans-48\"/>\r\n       <use x=\"63.623047\" xlink:href=\"#DejaVuSans-46\"/>\r\n       <use x=\"95.410156\" xlink:href=\"#DejaVuSans-48\"/>\r\n       <use x=\"159.033203\" xlink:href=\"#DejaVuSans-48\"/>\r\n       <use x=\"222.65625\" xlink:href=\"#DejaVuSans-53\"/>\r\n      </g>\r\n     </g>\r\n    </g>\r\n    <g id=\"xtick_3\">\r\n     <g id=\"line2d_5\">\r\n      <path clip-path=\"url(#p9875ae2167)\" d=\"M 276.774067 442.08 \r\nL 276.774067 7.2 \r\n\" style=\"fill:none;stroke:#b0b0b0;stroke-linecap:square;stroke-width:0.8;\"/>\r\n     </g>\r\n     <g id=\"line2d_6\">\r\n      <g>\r\n       <use style=\"stroke:#000000;stroke-width:0.8;\" x=\"276.774067\" xlink:href=\"#m3e2f881884\" y=\"442.08\"/>\r\n      </g>\r\n     </g>\r\n     <g id=\"text_3\">\r\n      <!-- 0.010 -->\r\n      <defs>\r\n       <path d=\"M 12.40625 8.296875 \r\nL 28.515625 8.296875 \r\nL 28.515625 63.921875 \r\nL 10.984375 60.40625 \r\nL 10.984375 69.390625 \r\nL 28.421875 72.90625 \r\nL 38.28125 72.90625 \r\nL 38.28125 8.296875 \r\nL 54.390625 8.296875 \r\nL 54.390625 0 \r\nL 12.40625 0 \r\nz\r\n\" id=\"DejaVuSans-49\"/>\r\n      </defs>\r\n      <g transform=\"translate(262.460004 456.678437)scale(0.1 -0.1)\">\r\n       <use xlink:href=\"#DejaVuSans-48\"/>\r\n       <use x=\"63.623047\" xlink:href=\"#DejaVuSans-46\"/>\r\n       <use x=\"95.410156\" xlink:href=\"#DejaVuSans-48\"/>\r\n       <use x=\"159.033203\" xlink:href=\"#DejaVuSans-49\"/>\r\n       <use x=\"222.65625\" xlink:href=\"#DejaVuSans-48\"/>\r\n      </g>\r\n     </g>\r\n    </g>\r\n    <g id=\"xtick_4\">\r\n     <g id=\"line2d_7\">\r\n      <path clip-path=\"url(#p9875ae2167)\" d=\"M 363.735106 442.08 \r\nL 363.735106 7.2 \r\n\" style=\"fill:none;stroke:#b0b0b0;stroke-linecap:square;stroke-width:0.8;\"/>\r\n     </g>\r\n     <g id=\"line2d_8\">\r\n      <g>\r\n       <use style=\"stroke:#000000;stroke-width:0.8;\" x=\"363.735106\" xlink:href=\"#m3e2f881884\" y=\"442.08\"/>\r\n      </g>\r\n     </g>\r\n     <g id=\"text_4\">\r\n      <!-- 0.015 -->\r\n      <g transform=\"translate(349.421043 456.678437)scale(0.1 -0.1)\">\r\n       <use xlink:href=\"#DejaVuSans-48\"/>\r\n       <use x=\"63.623047\" xlink:href=\"#DejaVuSans-46\"/>\r\n       <use x=\"95.410156\" xlink:href=\"#DejaVuSans-48\"/>\r\n       <use x=\"159.033203\" xlink:href=\"#DejaVuSans-49\"/>\r\n       <use x=\"222.65625\" xlink:href=\"#DejaVuSans-53\"/>\r\n      </g>\r\n     </g>\r\n    </g>\r\n    <g id=\"xtick_5\">\r\n     <g id=\"line2d_9\">\r\n      <path clip-path=\"url(#p9875ae2167)\" d=\"M 450.696144 442.08 \r\nL 450.696144 7.2 \r\n\" style=\"fill:none;stroke:#b0b0b0;stroke-linecap:square;stroke-width:0.8;\"/>\r\n     </g>\r\n     <g id=\"line2d_10\">\r\n      <g>\r\n       <use style=\"stroke:#000000;stroke-width:0.8;\" x=\"450.696144\" xlink:href=\"#m3e2f881884\" y=\"442.08\"/>\r\n      </g>\r\n     </g>\r\n     <g id=\"text_5\">\r\n      <!-- 0.020 -->\r\n      <defs>\r\n       <path d=\"M 19.1875 8.296875 \r\nL 53.609375 8.296875 \r\nL 53.609375 0 \r\nL 7.328125 0 \r\nL 7.328125 8.296875 \r\nQ 12.9375 14.109375 22.625 23.890625 \r\nQ 32.328125 33.6875 34.8125 36.53125 \r\nQ 39.546875 41.84375 41.421875 45.53125 \r\nQ 43.3125 49.21875 43.3125 52.78125 \r\nQ 43.3125 58.59375 39.234375 62.25 \r\nQ 35.15625 65.921875 28.609375 65.921875 \r\nQ 23.96875 65.921875 18.8125 64.3125 \r\nQ 13.671875 62.703125 7.8125 59.421875 \r\nL 7.8125 69.390625 \r\nQ 13.765625 71.78125 18.9375 73 \r\nQ 24.125 74.21875 28.421875 74.21875 \r\nQ 39.75 74.21875 46.484375 68.546875 \r\nQ 53.21875 62.890625 53.21875 53.421875 \r\nQ 53.21875 48.921875 51.53125 44.890625 \r\nQ 49.859375 40.875 45.40625 35.40625 \r\nQ 44.1875 33.984375 37.640625 27.21875 \r\nQ 31.109375 20.453125 19.1875 8.296875 \r\nz\r\n\" id=\"DejaVuSans-50\"/>\r\n      </defs>\r\n      <g transform=\"translate(436.382082 456.678437)scale(0.1 -0.1)\">\r\n       <use xlink:href=\"#DejaVuSans-48\"/>\r\n       <use x=\"63.623047\" xlink:href=\"#DejaVuSans-46\"/>\r\n       <use x=\"95.410156\" xlink:href=\"#DejaVuSans-48\"/>\r\n       <use x=\"159.033203\" xlink:href=\"#DejaVuSans-50\"/>\r\n       <use x=\"222.65625\" xlink:href=\"#DejaVuSans-48\"/>\r\n      </g>\r\n     </g>\r\n    </g>\r\n    <g id=\"xtick_6\">\r\n     <g id=\"line2d_11\">\r\n      <path clip-path=\"url(#p9875ae2167)\" d=\"M 537.657183 442.08 \r\nL 537.657183 7.2 \r\n\" style=\"fill:none;stroke:#b0b0b0;stroke-linecap:square;stroke-width:0.8;\"/>\r\n     </g>\r\n     <g id=\"line2d_12\">\r\n      <g>\r\n       <use style=\"stroke:#000000;stroke-width:0.8;\" x=\"537.657183\" xlink:href=\"#m3e2f881884\" y=\"442.08\"/>\r\n      </g>\r\n     </g>\r\n     <g id=\"text_6\">\r\n      <!-- 0.025 -->\r\n      <g transform=\"translate(523.343121 456.678437)scale(0.1 -0.1)\">\r\n       <use xlink:href=\"#DejaVuSans-48\"/>\r\n       <use x=\"63.623047\" xlink:href=\"#DejaVuSans-46\"/>\r\n       <use x=\"95.410156\" xlink:href=\"#DejaVuSans-48\"/>\r\n       <use x=\"159.033203\" xlink:href=\"#DejaVuSans-50\"/>\r\n       <use x=\"222.65625\" xlink:href=\"#DejaVuSans-53\"/>\r\n      </g>\r\n     </g>\r\n    </g>\r\n    <g id=\"xtick_7\">\r\n     <g id=\"line2d_13\">\r\n      <path clip-path=\"url(#p9875ae2167)\" d=\"M 624.618222 442.08 \r\nL 624.618222 7.2 \r\n\" style=\"fill:none;stroke:#b0b0b0;stroke-linecap:square;stroke-width:0.8;\"/>\r\n     </g>\r\n     <g id=\"line2d_14\">\r\n      <g>\r\n       <use style=\"stroke:#000000;stroke-width:0.8;\" x=\"624.618222\" xlink:href=\"#m3e2f881884\" y=\"442.08\"/>\r\n      </g>\r\n     </g>\r\n     <g id=\"text_7\">\r\n      <!-- 0.030 -->\r\n      <defs>\r\n       <path d=\"M 40.578125 39.3125 \r\nQ 47.65625 37.796875 51.625 33 \r\nQ 55.609375 28.21875 55.609375 21.1875 \r\nQ 55.609375 10.40625 48.1875 4.484375 \r\nQ 40.765625 -1.421875 27.09375 -1.421875 \r\nQ 22.515625 -1.421875 17.65625 -0.515625 \r\nQ 12.796875 0.390625 7.625 2.203125 \r\nL 7.625 11.71875 \r\nQ 11.71875 9.328125 16.59375 8.109375 \r\nQ 21.484375 6.890625 26.8125 6.890625 \r\nQ 36.078125 6.890625 40.9375 10.546875 \r\nQ 45.796875 14.203125 45.796875 21.1875 \r\nQ 45.796875 27.640625 41.28125 31.265625 \r\nQ 36.765625 34.90625 28.71875 34.90625 \r\nL 20.21875 34.90625 \r\nL 20.21875 43.015625 \r\nL 29.109375 43.015625 \r\nQ 36.375 43.015625 40.234375 45.921875 \r\nQ 44.09375 48.828125 44.09375 54.296875 \r\nQ 44.09375 59.90625 40.109375 62.90625 \r\nQ 36.140625 65.921875 28.71875 65.921875 \r\nQ 24.65625 65.921875 20.015625 65.03125 \r\nQ 15.375 64.15625 9.8125 62.3125 \r\nL 9.8125 71.09375 \r\nQ 15.4375 72.65625 20.34375 73.4375 \r\nQ 25.25 74.21875 29.59375 74.21875 \r\nQ 40.828125 74.21875 47.359375 69.109375 \r\nQ 53.90625 64.015625 53.90625 55.328125 \r\nQ 53.90625 49.265625 50.4375 45.09375 \r\nQ 46.96875 40.921875 40.578125 39.3125 \r\nz\r\n\" id=\"DejaVuSans-51\"/>\r\n      </defs>\r\n      <g transform=\"translate(610.30416 456.678437)scale(0.1 -0.1)\">\r\n       <use xlink:href=\"#DejaVuSans-48\"/>\r\n       <use x=\"63.623047\" xlink:href=\"#DejaVuSans-46\"/>\r\n       <use x=\"95.410156\" xlink:href=\"#DejaVuSans-48\"/>\r\n       <use x=\"159.033203\" xlink:href=\"#DejaVuSans-51\"/>\r\n       <use x=\"222.65625\" xlink:href=\"#DejaVuSans-48\"/>\r\n      </g>\r\n     </g>\r\n    </g>\r\n    <g id=\"xtick_8\">\r\n     <g id=\"line2d_15\">\r\n      <path clip-path=\"url(#p9875ae2167)\" d=\"M 711.579261 442.08 \r\nL 711.579261 7.2 \r\n\" style=\"fill:none;stroke:#b0b0b0;stroke-linecap:square;stroke-width:0.8;\"/>\r\n     </g>\r\n     <g id=\"line2d_16\">\r\n      <g>\r\n       <use style=\"stroke:#000000;stroke-width:0.8;\" x=\"711.579261\" xlink:href=\"#m3e2f881884\" y=\"442.08\"/>\r\n      </g>\r\n     </g>\r\n     <g id=\"text_8\">\r\n      <!-- 0.035 -->\r\n      <g transform=\"translate(697.265199 456.678437)scale(0.1 -0.1)\">\r\n       <use xlink:href=\"#DejaVuSans-48\"/>\r\n       <use x=\"63.623047\" xlink:href=\"#DejaVuSans-46\"/>\r\n       <use x=\"95.410156\" xlink:href=\"#DejaVuSans-48\"/>\r\n       <use x=\"159.033203\" xlink:href=\"#DejaVuSans-51\"/>\r\n       <use x=\"222.65625\" xlink:href=\"#DejaVuSans-53\"/>\r\n      </g>\r\n     </g>\r\n    </g>\r\n    <g id=\"text_9\">\r\n     <!-- r in m -->\r\n     <defs>\r\n      <path d=\"M 41.109375 46.296875 \r\nQ 39.59375 47.171875 37.8125 47.578125 \r\nQ 36.03125 48 33.890625 48 \r\nQ 26.265625 48 22.1875 43.046875 \r\nQ 18.109375 38.09375 18.109375 28.8125 \r\nL 18.109375 0 \r\nL 9.078125 0 \r\nL 9.078125 54.6875 \r\nL 18.109375 54.6875 \r\nL 18.109375 46.1875 \r\nQ 20.953125 51.171875 25.484375 53.578125 \r\nQ 30.03125 56 36.53125 56 \r\nQ 37.453125 56 38.578125 55.875 \r\nQ 39.703125 55.765625 41.0625 55.515625 \r\nz\r\n\" id=\"DejaVuSans-114\"/>\r\n      <path id=\"DejaVuSans-32\"/>\r\n      <path d=\"M 9.421875 54.6875 \r\nL 18.40625 54.6875 \r\nL 18.40625 0 \r\nL 9.421875 0 \r\nz\r\nM 9.421875 75.984375 \r\nL 18.40625 75.984375 \r\nL 18.40625 64.59375 \r\nL 9.421875 64.59375 \r\nz\r\n\" id=\"DejaVuSans-105\"/>\r\n      <path d=\"M 54.890625 33.015625 \r\nL 54.890625 0 \r\nL 45.90625 0 \r\nL 45.90625 32.71875 \r\nQ 45.90625 40.484375 42.875 44.328125 \r\nQ 39.84375 48.1875 33.796875 48.1875 \r\nQ 26.515625 48.1875 22.3125 43.546875 \r\nQ 18.109375 38.921875 18.109375 30.90625 \r\nL 18.109375 0 \r\nL 9.078125 0 \r\nL 9.078125 54.6875 \r\nL 18.109375 54.6875 \r\nL 18.109375 46.1875 \r\nQ 21.34375 51.125 25.703125 53.5625 \r\nQ 30.078125 56 35.796875 56 \r\nQ 45.21875 56 50.046875 50.171875 \r\nQ 54.890625 44.34375 54.890625 33.015625 \r\nz\r\n\" id=\"DejaVuSans-110\"/>\r\n      <path d=\"M 52 44.1875 \r\nQ 55.375 50.25 60.0625 53.125 \r\nQ 64.75 56 71.09375 56 \r\nQ 79.640625 56 84.28125 50.015625 \r\nQ 88.921875 44.046875 88.921875 33.015625 \r\nL 88.921875 0 \r\nL 79.890625 0 \r\nL 79.890625 32.71875 \r\nQ 79.890625 40.578125 77.09375 44.375 \r\nQ 74.3125 48.1875 68.609375 48.1875 \r\nQ 61.625 48.1875 57.5625 43.546875 \r\nQ 53.515625 38.921875 53.515625 30.90625 \r\nL 53.515625 0 \r\nL 44.484375 0 \r\nL 44.484375 32.71875 \r\nQ 44.484375 40.625 41.703125 44.40625 \r\nQ 38.921875 48.1875 33.109375 48.1875 \r\nQ 26.21875 48.1875 22.15625 43.53125 \r\nQ 18.109375 38.875 18.109375 30.90625 \r\nL 18.109375 0 \r\nL 9.078125 0 \r\nL 9.078125 54.6875 \r\nL 18.109375 54.6875 \r\nL 18.109375 46.1875 \r\nQ 21.1875 51.21875 25.484375 53.609375 \r\nQ 29.78125 56 35.6875 56 \r\nQ 41.65625 56 45.828125 52.96875 \r\nQ 50 49.953125 52 44.1875 \r\nz\r\n\" id=\"DejaVuSans-109\"/>\r\n     </defs>\r\n     <g transform=\"translate(392.553906 470.356562)scale(0.1 -0.1)\">\r\n      <use xlink:href=\"#DejaVuSans-114\"/>\r\n      <use x=\"41.113281\" xlink:href=\"#DejaVuSans-32\"/>\r\n      <use x=\"72.900391\" xlink:href=\"#DejaVuSans-105\"/>\r\n      <use x=\"100.683594\" xlink:href=\"#DejaVuSans-110\"/>\r\n      <use x=\"164.0625\" xlink:href=\"#DejaVuSans-32\"/>\r\n      <use x=\"195.849609\" xlink:href=\"#DejaVuSans-109\"/>\r\n     </g>\r\n    </g>\r\n   </g>\r\n   <g id=\"matplotlib.axis_2\">\r\n    <g id=\"ytick_1\">\r\n     <g id=\"line2d_17\">\r\n      <path clip-path=\"url(#p9875ae2167)\" d=\"M 72.415625 422.312727 \r\nL 742.015625 422.312727 \r\n\" style=\"fill:none;stroke:#b0b0b0;stroke-linecap:square;stroke-width:0.8;\"/>\r\n     </g>\r\n     <g id=\"line2d_18\">\r\n      <defs>\r\n       <path d=\"M 0 0 \r\nL -3.5 0 \r\n\" id=\"mcf393e543c\" style=\"stroke:#000000;stroke-width:0.8;\"/>\r\n      </defs>\r\n      <g>\r\n       <use style=\"stroke:#000000;stroke-width:0.8;\" x=\"72.415625\" xlink:href=\"#mcf393e543c\" y=\"422.312727\"/>\r\n      </g>\r\n     </g>\r\n     <g id=\"text_10\">\r\n      <!-- 0 -->\r\n      <g transform=\"translate(59.053125 426.111946)scale(0.1 -0.1)\">\r\n       <use xlink:href=\"#DejaVuSans-48\"/>\r\n      </g>\r\n     </g>\r\n    </g>\r\n    <g id=\"ytick_2\">\r\n     <g id=\"line2d_19\">\r\n      <path clip-path=\"url(#p9875ae2167)\" d=\"M 72.415625 335.580245 \r\nL 742.015625 335.580245 \r\n\" style=\"fill:none;stroke:#b0b0b0;stroke-linecap:square;stroke-width:0.8;\"/>\r\n     </g>\r\n     <g id=\"line2d_20\">\r\n      <g>\r\n       <use style=\"stroke:#000000;stroke-width:0.8;\" x=\"72.415625\" xlink:href=\"#mcf393e543c\" y=\"335.580245\"/>\r\n      </g>\r\n     </g>\r\n     <g id=\"text_11\">\r\n      <!-- 500000 -->\r\n      <g transform=\"translate(27.240625 339.379464)scale(0.1 -0.1)\">\r\n       <use xlink:href=\"#DejaVuSans-53\"/>\r\n       <use x=\"63.623047\" xlink:href=\"#DejaVuSans-48\"/>\r\n       <use x=\"127.246094\" xlink:href=\"#DejaVuSans-48\"/>\r\n       <use x=\"190.869141\" xlink:href=\"#DejaVuSans-48\"/>\r\n       <use x=\"254.492188\" xlink:href=\"#DejaVuSans-48\"/>\r\n       <use x=\"318.115234\" xlink:href=\"#DejaVuSans-48\"/>\r\n      </g>\r\n     </g>\r\n    </g>\r\n    <g id=\"ytick_3\">\r\n     <g id=\"line2d_21\">\r\n      <path clip-path=\"url(#p9875ae2167)\" d=\"M 72.415625 248.847762 \r\nL 742.015625 248.847762 \r\n\" style=\"fill:none;stroke:#b0b0b0;stroke-linecap:square;stroke-width:0.8;\"/>\r\n     </g>\r\n     <g id=\"line2d_22\">\r\n      <g>\r\n       <use style=\"stroke:#000000;stroke-width:0.8;\" x=\"72.415625\" xlink:href=\"#mcf393e543c\" y=\"248.847762\"/>\r\n      </g>\r\n     </g>\r\n     <g id=\"text_12\">\r\n      <!-- 1000000 -->\r\n      <g transform=\"translate(20.878125 252.646981)scale(0.1 -0.1)\">\r\n       <use xlink:href=\"#DejaVuSans-49\"/>\r\n       <use x=\"63.623047\" xlink:href=\"#DejaVuSans-48\"/>\r\n       <use x=\"127.246094\" xlink:href=\"#DejaVuSans-48\"/>\r\n       <use x=\"190.869141\" xlink:href=\"#DejaVuSans-48\"/>\r\n       <use x=\"254.492188\" xlink:href=\"#DejaVuSans-48\"/>\r\n       <use x=\"318.115234\" xlink:href=\"#DejaVuSans-48\"/>\r\n       <use x=\"381.738281\" xlink:href=\"#DejaVuSans-48\"/>\r\n      </g>\r\n     </g>\r\n    </g>\r\n    <g id=\"ytick_4\">\r\n     <g id=\"line2d_23\">\r\n      <path clip-path=\"url(#p9875ae2167)\" d=\"M 72.415625 162.11528 \r\nL 742.015625 162.11528 \r\n\" style=\"fill:none;stroke:#b0b0b0;stroke-linecap:square;stroke-width:0.8;\"/>\r\n     </g>\r\n     <g id=\"line2d_24\">\r\n      <g>\r\n       <use style=\"stroke:#000000;stroke-width:0.8;\" x=\"72.415625\" xlink:href=\"#mcf393e543c\" y=\"162.11528\"/>\r\n      </g>\r\n     </g>\r\n     <g id=\"text_13\">\r\n      <!-- 1500000 -->\r\n      <g transform=\"translate(20.878125 165.914499)scale(0.1 -0.1)\">\r\n       <use xlink:href=\"#DejaVuSans-49\"/>\r\n       <use x=\"63.623047\" xlink:href=\"#DejaVuSans-53\"/>\r\n       <use x=\"127.246094\" xlink:href=\"#DejaVuSans-48\"/>\r\n       <use x=\"190.869141\" xlink:href=\"#DejaVuSans-48\"/>\r\n       <use x=\"254.492188\" xlink:href=\"#DejaVuSans-48\"/>\r\n       <use x=\"318.115234\" xlink:href=\"#DejaVuSans-48\"/>\r\n       <use x=\"381.738281\" xlink:href=\"#DejaVuSans-48\"/>\r\n      </g>\r\n     </g>\r\n    </g>\r\n    <g id=\"ytick_5\">\r\n     <g id=\"line2d_25\">\r\n      <path clip-path=\"url(#p9875ae2167)\" d=\"M 72.415625 75.382797 \r\nL 742.015625 75.382797 \r\n\" style=\"fill:none;stroke:#b0b0b0;stroke-linecap:square;stroke-width:0.8;\"/>\r\n     </g>\r\n     <g id=\"line2d_26\">\r\n      <g>\r\n       <use style=\"stroke:#000000;stroke-width:0.8;\" x=\"72.415625\" xlink:href=\"#mcf393e543c\" y=\"75.382797\"/>\r\n      </g>\r\n     </g>\r\n     <g id=\"text_14\">\r\n      <!-- 2000000 -->\r\n      <g transform=\"translate(20.878125 79.182016)scale(0.1 -0.1)\">\r\n       <use xlink:href=\"#DejaVuSans-50\"/>\r\n       <use x=\"63.623047\" xlink:href=\"#DejaVuSans-48\"/>\r\n       <use x=\"127.246094\" xlink:href=\"#DejaVuSans-48\"/>\r\n       <use x=\"190.869141\" xlink:href=\"#DejaVuSans-48\"/>\r\n       <use x=\"254.492188\" xlink:href=\"#DejaVuSans-48\"/>\r\n       <use x=\"318.115234\" xlink:href=\"#DejaVuSans-48\"/>\r\n       <use x=\"381.738281\" xlink:href=\"#DejaVuSans-48\"/>\r\n      </g>\r\n     </g>\r\n    </g>\r\n    <g id=\"text_15\">\r\n     <!-- q in W/m^3 -->\r\n     <defs>\r\n      <path d=\"M 14.796875 27.296875 \r\nQ 14.796875 17.390625 18.875 11.75 \r\nQ 22.953125 6.109375 30.078125 6.109375 \r\nQ 37.203125 6.109375 41.296875 11.75 \r\nQ 45.40625 17.390625 45.40625 27.296875 \r\nQ 45.40625 37.203125 41.296875 42.84375 \r\nQ 37.203125 48.484375 30.078125 48.484375 \r\nQ 22.953125 48.484375 18.875 42.84375 \r\nQ 14.796875 37.203125 14.796875 27.296875 \r\nz\r\nM 45.40625 8.203125 \r\nQ 42.578125 3.328125 38.25 0.953125 \r\nQ 33.9375 -1.421875 27.875 -1.421875 \r\nQ 17.96875 -1.421875 11.734375 6.484375 \r\nQ 5.515625 14.40625 5.515625 27.296875 \r\nQ 5.515625 40.1875 11.734375 48.09375 \r\nQ 17.96875 56 27.875 56 \r\nQ 33.9375 56 38.25 53.625 \r\nQ 42.578125 51.265625 45.40625 46.390625 \r\nL 45.40625 54.6875 \r\nL 54.390625 54.6875 \r\nL 54.390625 -20.796875 \r\nL 45.40625 -20.796875 \r\nz\r\n\" id=\"DejaVuSans-113\"/>\r\n      <path d=\"M 3.328125 72.90625 \r\nL 13.28125 72.90625 \r\nL 28.609375 11.28125 \r\nL 43.890625 72.90625 \r\nL 54.984375 72.90625 \r\nL 70.3125 11.28125 \r\nL 85.59375 72.90625 \r\nL 95.609375 72.90625 \r\nL 77.296875 0 \r\nL 64.890625 0 \r\nL 49.515625 63.28125 \r\nL 33.984375 0 \r\nL 21.578125 0 \r\nz\r\n\" id=\"DejaVuSans-87\"/>\r\n      <path d=\"M 25.390625 72.90625 \r\nL 33.6875 72.90625 \r\nL 8.296875 -9.28125 \r\nL 0 -9.28125 \r\nz\r\n\" id=\"DejaVuSans-47\"/>\r\n      <path d=\"M 46.6875 72.90625 \r\nL 73.1875 45.703125 \r\nL 63.375 45.703125 \r\nL 41.890625 64.984375 \r\nL 20.40625 45.703125 \r\nL 10.59375 45.703125 \r\nL 37.109375 72.90625 \r\nz\r\n\" id=\"DejaVuSans-94\"/>\r\n     </defs>\r\n     <g transform=\"translate(14.798438 254.419687)rotate(-90)scale(0.1 -0.1)\">\r\n      <use xlink:href=\"#DejaVuSans-113\"/>\r\n      <use x=\"63.476562\" xlink:href=\"#DejaVuSans-32\"/>\r\n      <use x=\"95.263672\" xlink:href=\"#DejaVuSans-105\"/>\r\n      <use x=\"123.046875\" xlink:href=\"#DejaVuSans-110\"/>\r\n      <use x=\"186.425781\" xlink:href=\"#DejaVuSans-32\"/>\r\n      <use x=\"218.212891\" xlink:href=\"#DejaVuSans-87\"/>\r\n      <use x=\"317.089844\" xlink:href=\"#DejaVuSans-47\"/>\r\n      <use x=\"350.78125\" xlink:href=\"#DejaVuSans-109\"/>\r\n      <use x=\"448.193359\" xlink:href=\"#DejaVuSans-94\"/>\r\n      <use x=\"531.982422\" xlink:href=\"#DejaVuSans-51\"/>\r\n     </g>\r\n    </g>\r\n   </g>\r\n   <g id=\"line2d_27\">\r\n    <path clip-path=\"url(#p9875ae2167)\" d=\"M 102.851989 422.312727 \r\nL 109.000749 422.281859 \r\nL 115.149509 422.189253 \r\nL 121.29827 422.03491 \r\nL 127.44703 421.81883 \r\nL 133.59579 421.541012 \r\nL 139.744551 421.201455 \r\nL 145.893311 420.800158 \r\nL 152.042071 420.337116 \r\nL 158.190832 419.812325 \r\nL 164.339592 419.225778 \r\nL 170.488352 418.577465 \r\nL 176.637113 417.867372 \r\nL 182.785873 417.095482 \r\nL 188.934633 416.261773 \r\nL 195.083394 415.366216 \r\nL 201.232154 414.408776 \r\nL 207.380914 413.38941 \r\nL 213.529675 412.308066 \r\nL 219.678435 411.164682 \r\nL 225.827195 409.959187 \r\nL 231.975956 408.691493 \r\nL 238.124716 407.361503 \r\nL 244.273476 405.969102 \r\nL 250.422237 404.514158 \r\nL 256.570997 402.996523 \r\nL 262.719757 401.416027 \r\nL 268.868518 399.77248 \r\nL 275.017278 398.065667 \r\nL 281.166038 396.295348 \r\nL 287.314799 394.461259 \r\nL 293.463559 392.563102 \r\nL 299.612319 390.600552 \r\nL 305.76108 388.573248 \r\nL 311.90984 386.480796 \r\nL 318.0586 384.322762 \r\nL 324.207361 382.098672 \r\nL 330.356121 379.808012 \r\nL 336.504881 377.450221 \r\nL 342.653642 375.024691 \r\nL 348.802402 372.530763 \r\nL 354.951162 369.967726 \r\nL 361.099923 367.334812 \r\nL 367.248683 364.631197 \r\nL 373.397443 361.855993 \r\nL 379.546204 359.008247 \r\nL 385.694964 356.086941 \r\nL 391.843724 353.090983 \r\nL 397.992485 350.019208 \r\nL 404.141245 346.870373 \r\nL 410.290005 343.643154 \r\nL 416.438765 340.336143 \r\nL 422.587526 336.947841 \r\nL 428.736286 333.47666 \r\nL 434.885046 329.920912 \r\nL 441.033807 326.278814 \r\nL 447.182567 322.548473 \r\nL 453.331327 318.727892 \r\nL 459.480088 314.81496 \r\nL 465.628848 310.807448 \r\nL 471.777608 306.703007 \r\nL 477.926369 302.499159 \r\nL 484.075129 298.193299 \r\nL 490.223889 293.782682 \r\nL 496.37265 289.264424 \r\nL 502.52141 284.635495 \r\nL 508.67017 279.892714 \r\nL 514.818931 275.03274 \r\nL 520.967691 270.052074 \r\nL 527.116451 264.947044 \r\nL 533.265212 259.713808 \r\nL 539.413972 254.348341 \r\nL 545.562732 248.846432 \r\nL 551.711493 243.203678 \r\nL 557.860253 237.415475 \r\nL 564.009013 231.477012 \r\nL 570.157774 225.383268 \r\nL 576.306534 219.128996 \r\nL 582.455294 212.708725 \r\nL 588.604055 206.116746 \r\nL 594.752815 199.347108 \r\nL 600.901575 192.393607 \r\nL 607.050336 185.249777 \r\nL 613.199096 177.908887 \r\nL 619.347856 170.363925 \r\nL 625.496617 162.607592 \r\nL 631.645377 154.632294 \r\nL 637.794137 146.430129 \r\nL 643.942898 137.99288 \r\nL 650.091658 129.312003 \r\nL 656.240418 120.378613 \r\nL 662.389179 111.183481 \r\nL 668.537939 101.717015 \r\nL 674.686699 91.969249 \r\nL 680.83546 81.929835 \r\nL 686.98422 71.588027 \r\nL 693.13298 60.932668 \r\nL 699.281741 49.952178 \r\nL 705.430501 38.634536 \r\nL 711.579261 26.967273 \r\n\" style=\"fill:none;stroke:#1f77b4;stroke-linecap:square;stroke-width:1.5;\"/>\r\n   </g>\r\n   <g id=\"line2d_28\">\r\n    <path clip-path=\"url(#p9875ae2167)\" d=\"M 102.851989 422.312705 \r\nL 145.462898 420.830348 \r\nL 180.76908 417.316069 \r\nL 188.073807 416.499396 \r\nL 192.943625 415.750548 \r\nL 236.163261 408.124334 \r\nL 271.469443 399.611367 \r\nL 286.078898 395.380557 \r\nL 308.601807 388.403796 \r\nL 319.558898 384.634402 \r\nL 347.560352 374.231708 \r\nL 351.821443 372.465835 \r\nL 379.21417 360.720522 \r\nL 406.606898 347.490349 \r\nL 410.867989 345.226631 \r\nL 434.608352 332.332981 \r\nL 455.913807 319.722078 \r\nL 479.045443 304.719093 \r\nL 499.133443 290.566086 \r\nL 518.612716 275.738301 \r\nL 537.483261 260.223595 \r\nL 554.527625 245.135612 \r\nL 570.354534 230.113546 \r\nL 583.746534 216.617972 \r\nL 596.529807 203.000972 \r\nL 608.704352 189.331933 \r\nL 619.661443 176.3741 \r\nL 628.183625 165.758044 \r\nL 635.488352 156.442975 \r\nL 650.097807 136.720009 \r\nL 662.88108 118.315376 \r\nL 667.14217 111.949212 \r\nL 678.099261 94.932299 \r\nL 689.66508 75.972578 \r\nL 700.013443 58.08834 \r\nL 706.100716 47.108008 \r\nL 711.579261 37.04704 \r\nL 711.579261 37.04704 \r\n\" style=\"fill:none;stroke:#ff7f0e;stroke-linecap:square;stroke-width:1.5;\"/>\r\n   </g>\r\n   <g id=\"patch_3\">\r\n    <path d=\"M 72.415625 442.08 \r\nL 72.415625 7.2 \r\n\" style=\"fill:none;stroke:#000000;stroke-linecap:square;stroke-linejoin:miter;stroke-width:0.8;\"/>\r\n   </g>\r\n   <g id=\"patch_4\">\r\n    <path d=\"M 742.015625 442.08 \r\nL 742.015625 7.2 \r\n\" style=\"fill:none;stroke:#000000;stroke-linecap:square;stroke-linejoin:miter;stroke-width:0.8;\"/>\r\n   </g>\r\n   <g id=\"patch_5\">\r\n    <path d=\"M 72.415625 442.08 \r\nL 742.015625 442.08 \r\n\" style=\"fill:none;stroke:#000000;stroke-linecap:square;stroke-linejoin:miter;stroke-width:0.8;\"/>\r\n   </g>\r\n   <g id=\"patch_6\">\r\n    <path d=\"M 72.415625 7.2 \r\nL 742.015625 7.2 \r\n\" style=\"fill:none;stroke:#000000;stroke-linecap:square;stroke-linejoin:miter;stroke-width:0.8;\"/>\r\n   </g>\r\n   <g id=\"legend_1\">\r\n    <g id=\"patch_7\">\r\n     <path d=\"M 79.415625 44.55625 \r\nL 161.278125 44.55625 \r\nQ 163.278125 44.55625 163.278125 42.55625 \r\nL 163.278125 14.2 \r\nQ 163.278125 12.2 161.278125 12.2 \r\nL 79.415625 12.2 \r\nQ 77.415625 12.2 77.415625 14.2 \r\nL 77.415625 42.55625 \r\nQ 77.415625 44.55625 79.415625 44.55625 \r\nz\r\n\" style=\"fill:#ffffff;opacity:0.8;stroke:#cccccc;stroke-linejoin:miter;\"/>\r\n    </g>\r\n    <g id=\"line2d_29\">\r\n     <path d=\"M 81.415625 20.298437 \r\nL 101.415625 20.298437 \r\n\" style=\"fill:none;stroke:#1f77b4;stroke-linecap:square;stroke-width:1.5;\"/>\r\n    </g>\r\n    <g id=\"line2d_30\"/>\r\n    <g id=\"text_16\">\r\n     <!-- analytical -->\r\n     <defs>\r\n      <path d=\"M 34.28125 27.484375 \r\nQ 23.390625 27.484375 19.1875 25 \r\nQ 14.984375 22.515625 14.984375 16.5 \r\nQ 14.984375 11.71875 18.140625 8.90625 \r\nQ 21.296875 6.109375 26.703125 6.109375 \r\nQ 34.1875 6.109375 38.703125 11.40625 \r\nQ 43.21875 16.703125 43.21875 25.484375 \r\nL 43.21875 27.484375 \r\nz\r\nM 52.203125 31.203125 \r\nL 52.203125 0 \r\nL 43.21875 0 \r\nL 43.21875 8.296875 \r\nQ 40.140625 3.328125 35.546875 0.953125 \r\nQ 30.953125 -1.421875 24.3125 -1.421875 \r\nQ 15.921875 -1.421875 10.953125 3.296875 \r\nQ 6 8.015625 6 15.921875 \r\nQ 6 25.140625 12.171875 29.828125 \r\nQ 18.359375 34.515625 30.609375 34.515625 \r\nL 43.21875 34.515625 \r\nL 43.21875 35.40625 \r\nQ 43.21875 41.609375 39.140625 45 \r\nQ 35.0625 48.390625 27.6875 48.390625 \r\nQ 23 48.390625 18.546875 47.265625 \r\nQ 14.109375 46.140625 10.015625 43.890625 \r\nL 10.015625 52.203125 \r\nQ 14.9375 54.109375 19.578125 55.046875 \r\nQ 24.21875 56 28.609375 56 \r\nQ 40.484375 56 46.34375 49.84375 \r\nQ 52.203125 43.703125 52.203125 31.203125 \r\nz\r\n\" id=\"DejaVuSans-97\"/>\r\n      <path d=\"M 9.421875 75.984375 \r\nL 18.40625 75.984375 \r\nL 18.40625 0 \r\nL 9.421875 0 \r\nz\r\n\" id=\"DejaVuSans-108\"/>\r\n      <path d=\"M 32.171875 -5.078125 \r\nQ 28.375 -14.84375 24.75 -17.8125 \r\nQ 21.140625 -20.796875 15.09375 -20.796875 \r\nL 7.90625 -20.796875 \r\nL 7.90625 -13.28125 \r\nL 13.1875 -13.28125 \r\nQ 16.890625 -13.28125 18.9375 -11.515625 \r\nQ 21 -9.765625 23.484375 -3.21875 \r\nL 25.09375 0.875 \r\nL 2.984375 54.6875 \r\nL 12.5 54.6875 \r\nL 29.59375 11.921875 \r\nL 46.6875 54.6875 \r\nL 56.203125 54.6875 \r\nz\r\n\" id=\"DejaVuSans-121\"/>\r\n      <path d=\"M 18.3125 70.21875 \r\nL 18.3125 54.6875 \r\nL 36.8125 54.6875 \r\nL 36.8125 47.703125 \r\nL 18.3125 47.703125 \r\nL 18.3125 18.015625 \r\nQ 18.3125 11.328125 20.140625 9.421875 \r\nQ 21.96875 7.515625 27.59375 7.515625 \r\nL 36.8125 7.515625 \r\nL 36.8125 0 \r\nL 27.59375 0 \r\nQ 17.1875 0 13.234375 3.875 \r\nQ 9.28125 7.765625 9.28125 18.015625 \r\nL 9.28125 47.703125 \r\nL 2.6875 47.703125 \r\nL 2.6875 54.6875 \r\nL 9.28125 54.6875 \r\nL 9.28125 70.21875 \r\nz\r\n\" id=\"DejaVuSans-116\"/>\r\n      <path d=\"M 48.78125 52.59375 \r\nL 48.78125 44.1875 \r\nQ 44.96875 46.296875 41.140625 47.34375 \r\nQ 37.3125 48.390625 33.40625 48.390625 \r\nQ 24.65625 48.390625 19.8125 42.84375 \r\nQ 14.984375 37.3125 14.984375 27.296875 \r\nQ 14.984375 17.28125 19.8125 11.734375 \r\nQ 24.65625 6.203125 33.40625 6.203125 \r\nQ 37.3125 6.203125 41.140625 7.25 \r\nQ 44.96875 8.296875 48.78125 10.40625 \r\nL 48.78125 2.09375 \r\nQ 45.015625 0.34375 40.984375 -0.53125 \r\nQ 36.96875 -1.421875 32.421875 -1.421875 \r\nQ 20.0625 -1.421875 12.78125 6.34375 \r\nQ 5.515625 14.109375 5.515625 27.296875 \r\nQ 5.515625 40.671875 12.859375 48.328125 \r\nQ 20.21875 56 33.015625 56 \r\nQ 37.15625 56 41.109375 55.140625 \r\nQ 45.0625 54.296875 48.78125 52.59375 \r\nz\r\n\" id=\"DejaVuSans-99\"/>\r\n     </defs>\r\n     <g transform=\"translate(109.415625 23.798437)scale(0.1 -0.1)\">\r\n      <use xlink:href=\"#DejaVuSans-97\"/>\r\n      <use x=\"61.279297\" xlink:href=\"#DejaVuSans-110\"/>\r\n      <use x=\"124.658203\" xlink:href=\"#DejaVuSans-97\"/>\r\n      <use x=\"185.9375\" xlink:href=\"#DejaVuSans-108\"/>\r\n      <use x=\"213.720703\" xlink:href=\"#DejaVuSans-121\"/>\r\n      <use x=\"272.900391\" xlink:href=\"#DejaVuSans-116\"/>\r\n      <use x=\"312.109375\" xlink:href=\"#DejaVuSans-105\"/>\r\n      <use x=\"339.892578\" xlink:href=\"#DejaVuSans-99\"/>\r\n      <use x=\"394.873047\" xlink:href=\"#DejaVuSans-97\"/>\r\n      <use x=\"456.152344\" xlink:href=\"#DejaVuSans-108\"/>\r\n     </g>\r\n    </g>\r\n    <g id=\"line2d_31\">\r\n     <path d=\"M 81.415625 34.976562 \r\nL 101.415625 34.976562 \r\n\" style=\"fill:none;stroke:#ff7f0e;stroke-linecap:square;stroke-width:1.5;\"/>\r\n    </g>\r\n    <g id=\"line2d_32\"/>\r\n    <g id=\"text_17\">\r\n     <!-- numerical -->\r\n     <defs>\r\n      <path d=\"M 8.5 21.578125 \r\nL 8.5 54.6875 \r\nL 17.484375 54.6875 \r\nL 17.484375 21.921875 \r\nQ 17.484375 14.15625 20.5 10.265625 \r\nQ 23.53125 6.390625 29.59375 6.390625 \r\nQ 36.859375 6.390625 41.078125 11.03125 \r\nQ 45.3125 15.671875 45.3125 23.6875 \r\nL 45.3125 54.6875 \r\nL 54.296875 54.6875 \r\nL 54.296875 0 \r\nL 45.3125 0 \r\nL 45.3125 8.40625 \r\nQ 42.046875 3.421875 37.71875 1 \r\nQ 33.40625 -1.421875 27.6875 -1.421875 \r\nQ 18.265625 -1.421875 13.375 4.4375 \r\nQ 8.5 10.296875 8.5 21.578125 \r\nz\r\nM 31.109375 56 \r\nz\r\n\" id=\"DejaVuSans-117\"/>\r\n      <path d=\"M 56.203125 29.59375 \r\nL 56.203125 25.203125 \r\nL 14.890625 25.203125 \r\nQ 15.484375 15.921875 20.484375 11.0625 \r\nQ 25.484375 6.203125 34.421875 6.203125 \r\nQ 39.59375 6.203125 44.453125 7.46875 \r\nQ 49.3125 8.734375 54.109375 11.28125 \r\nL 54.109375 2.78125 \r\nQ 49.265625 0.734375 44.1875 -0.34375 \r\nQ 39.109375 -1.421875 33.890625 -1.421875 \r\nQ 20.796875 -1.421875 13.15625 6.1875 \r\nQ 5.515625 13.8125 5.515625 26.8125 \r\nQ 5.515625 40.234375 12.765625 48.109375 \r\nQ 20.015625 56 32.328125 56 \r\nQ 43.359375 56 49.78125 48.890625 \r\nQ 56.203125 41.796875 56.203125 29.59375 \r\nz\r\nM 47.21875 32.234375 \r\nQ 47.125 39.59375 43.09375 43.984375 \r\nQ 39.0625 48.390625 32.421875 48.390625 \r\nQ 24.90625 48.390625 20.390625 44.140625 \r\nQ 15.875 39.890625 15.1875 32.171875 \r\nz\r\n\" id=\"DejaVuSans-101\"/>\r\n     </defs>\r\n     <g transform=\"translate(109.415625 38.476562)scale(0.1 -0.1)\">\r\n      <use xlink:href=\"#DejaVuSans-110\"/>\r\n      <use x=\"63.378906\" xlink:href=\"#DejaVuSans-117\"/>\r\n      <use x=\"126.757812\" xlink:href=\"#DejaVuSans-109\"/>\r\n      <use x=\"224.169922\" xlink:href=\"#DejaVuSans-101\"/>\r\n      <use x=\"285.693359\" xlink:href=\"#DejaVuSans-114\"/>\r\n      <use x=\"326.806641\" xlink:href=\"#DejaVuSans-105\"/>\r\n      <use x=\"354.589844\" xlink:href=\"#DejaVuSans-99\"/>\r\n      <use x=\"409.570312\" xlink:href=\"#DejaVuSans-97\"/>\r\n      <use x=\"470.849609\" xlink:href=\"#DejaVuSans-108\"/>\r\n     </g>\r\n    </g>\r\n   </g>\r\n  </g>\r\n </g>\r\n <defs>\r\n  <clipPath id=\"p9875ae2167\">\r\n   <rect height=\"434.88\" width=\"669.6\" x=\"72.415625\" y=\"7.2\"/>\r\n  </clipPath>\r\n </defs>\r\n</svg>\r\n",
      "image/png": "[encoded data removed]"
     },
     "metadata": {
      "needs_background": "light"
     }
    }
   ],
   "source": [
    "# analytical\n",
    "xi = np.linspace(0, 1, 100)\n",
    "J_xi = J(xi, H, delta, m)\n",
    "w = rho * np.abs(J_xi)**2 / 2\n",
    "# numerical\n",
    "df = pd.read_csv('./simdata-base/line-data.csv')\n",
    "\n",
    "fig, ax = plt.subplots(1, 1, figsize=(12,8))\n",
    "ax.grid()\n",
    "line, = ax.plot(xi * r_e, w)\n",
    "line.set_label('analytical')\n",
    "line, = ax.plot(df['Points:0'], df['joule heating'])\n",
    "line.set_label('numerical')\n",
    "ax.legend()\n",
    "ax.set_xlabel('r in m')\n",
    "ax.set_ylabel('q in W/m^3')"
   ]
  },
  {
   "cell_type": "code",
   "execution_count": null,
   "metadata": {},
   "outputs": [],
   "source": []
  }
 ]
}