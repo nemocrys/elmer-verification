{
 "cells": [
  {
   "attachments": {},
   "cell_type": "markdown",
   "id": "ba947bba",
   "metadata": {},
   "source": [
    "# Heat conduction and radiation verification\n",
    "\n",
    "This is for verification of a new radiation model with temperature / wavelength dependent emissivity. See http://www.elmerfem.org/forum/viewtopic.php?p=27604"
   ]
  },
  {
   "cell_type": "code",
   "execution_count": 1,
   "id": "b5d3a4ba",
   "metadata": {},
   "outputs": [],
   "source": [
    "import numpy as np\n",
    "import matplotlib.pyplot as plt\n",
    "import pandas as pd"
   ]
  },
  {
   "cell_type": "markdown",
   "id": "e735ab7e",
   "metadata": {},
   "source": [
    "## Geometry, Mesh"
   ]
  },
  {
   "cell_type": "code",
   "execution_count": 2,
   "id": "24e528da",
   "metadata": {},
   "outputs": [],
   "source": [
    "from sphere_2D import mesh\n",
    "\n",
    "heater_r_in = 0.4\n",
    "heater_r_out = 0.5\n",
    "insulation_r_in = 0.9\n",
    "insulation_r_out = 1\n",
    "mesh_size = 0.01\n",
    "\n",
    "ph_heater, ph_insulation, ph_heater_in, ph_heater_out, ph_insulation_in, ph_insulation_out = mesh(heater_r_in, heater_r_out, insulation_r_in, insulation_r_out, mesh_size)"
   ]
  },
  {
   "attachments": {},
   "cell_type": "markdown",
   "id": "1442de67",
   "metadata": {},
   "source": [
    "Screenshot of the mesh:\n",
    "\n",
    "![geometry-mesh](geometry-mesh.png)"
   ]
  },
  {
   "cell_type": "markdown",
   "id": "8826a7c2",
   "metadata": {},
   "source": [
    "## Setup\n",
    "\n",
    "The inner sphere is heated with a volumetric power of 30 kW.\n",
    "\n",
    "There is surface-to-surface radiation between inner and outer sphere and inside of the inner one. At the outer sphere there is radiation to ambient with the ambient temperature $T_{amb}=300~\\mathrm{K}$."
   ]
  },
  {
   "attachments": {},
   "cell_type": "markdown",
   "id": "de0c952e",
   "metadata": {},
   "source": [
    "## Simulation (todo)\n",
    "\n",
    "TODO: This needs to be adjusted to the new model! Alternatively, one could directly adjust the sif-file in the *simdata* subdirectory."
   ]
  },
  {
   "cell_type": "code",
   "execution_count": 3,
   "id": "839fb056",
   "metadata": {},
   "outputs": [],
   "source": [
    "# from sphere_2D import elmer_setup\n",
    "# from pyelmer.execute import run_elmer_grid, run_elmer_solver\n",
    "# from pyelmer.post import scan_logfile\n",
    "\n",
    "# elmer_setup(ph_heater, ph_insulation, ph_heater_in, ph_heater_out, ph_insulation_in, ph_insulation_out)\n",
    "# run_elmer_grid(\"./simdata\", \"2d_sphere.msh\")\n",
    "# run_elmer_solver(\"./simdata\")\n",
    "# warn, err, stats = scan_logfile(\"./simdata\")\n",
    "# print(\"Warnings:\", warn)\n",
    "# print(\"Errors:\", err)\n",
    "# print(\"Statistics:\", stats)"
   ]
  },
  {
   "attachments": {},
   "cell_type": "markdown",
   "id": "775b7847",
   "metadata": {},
   "source": [
    "## Analytical solution\n",
    "The analytical solution is computed according to [K. Dadzis, Modeling of directional solidification of multicrystalline silicon in a\n",
    "traveling magnetic field, Dissertation, TU Bergakademie Freiberg, 2012, Online:\n",
    "http://nbn-resolving.de/urn:nbn:de:bsz:105-qucosa-117492] and [H.D. Baehr, K. Stephan, Wärme- und Stoffübertragung, 7th ed., Springer-Verlag, Berlin Heidelberg New York, 2010. https://doi.org/10.1007/978-3-642-10194-6, Chapter 5.5.3]. The base parameters are:"
   ]
  },
  {
   "cell_type": "code",
   "execution_count": 10,
   "id": "99e56100",
   "metadata": {},
   "outputs": [],
   "source": [
    "P = 30000  # input power\n",
    "T_amb = 300  # ambient temperature\n",
    "\n",
    "eps_emission_insulator = 0.4  # emissivity\n",
    "eps_reflection_insulation = 0.5\n",
    "eps_emission_heater = 0.8\n",
    "eps_reflection_heater = 0.9\n",
    "lmbd_i = 0.5  # heat conductivity\n",
    "lmbd_h = 20\n",
    "sgm_sb = 5.670374419e-8  # Stefan-Boltzmann constant\n",
    "\n",
    "r_hi = heater_r_in  # radius\n",
    "r_ho = heater_r_out\n",
    "r_ii = insulation_r_in\n",
    "r_io = insulation_r_out"
   ]
  },
  {
   "attachments": {},
   "cell_type": "markdown",
   "id": "b421eff2",
   "metadata": {},
   "source": [
    "The temperatures at the outer sphere, the insulation, is given by:\n",
    "\\begin{align}\n",
    "    T_{i,o} &= \\left[ \\frac{P}{\\sigma_{sb} \\epsilon_{i,e} 4 \\pi r^2_{i,o}}+ T_a^4 \\right]^{1/4},\\\\\n",
    "    T_i(r) &= T_{i,o} + \\frac{P}{4 \\pi \\lambda_i}\\left[ \\frac{1}{r} - \\frac{1}{r_{i,o}} \\right]\n",
    "\\end{align}\n"
   ]
  },
  {
   "cell_type": "code",
   "execution_count": 11,
   "id": "d6f68169",
   "metadata": {},
   "outputs": [
    {
     "name": "stdout",
     "output_type": "stream",
     "text": [
      "Insulation outside temperature: 580.2423949435341\n"
     ]
    }
   ],
   "source": [
    "T_io = (P/(sgm_sb*eps_emission_insulator*4*np.pi * r_io**2) + T_amb**4)**0.25\n",
    "print(\"Insulation outside temperature:\", T_io)"
   ]
  },
  {
   "cell_type": "code",
   "execution_count": 12,
   "id": "c26727d1",
   "metadata": {},
   "outputs": [
    {
     "name": "stdout",
     "output_type": "stream",
     "text": [
      "Insulation inside temperature: 1110.7588719165187\n"
     ]
    }
   ],
   "source": [
    "def T_i(r):\n",
    "    return T_io + P/(4*np.pi*lmbd_i)*(1/r - 1/r_io)\n",
    "T_ii = T_i(r_ii)\n",
    "print(\"Insulation inside temperature:\", T_ii)"
   ]
  },
  {
   "attachments": {},
   "cell_type": "markdown",
   "id": "64fa348a",
   "metadata": {},
   "source": [
    "The temperature inner sphere (heater) outer surface is computed from the radiative heat exchange. The index 1 is used for the heater, 2 for the insulation."
   ]
  },
  {
   "cell_type": "code",
   "execution_count": 13,
   "id": "188661e9",
   "metadata": {},
   "outputs": [
    {
     "data": {
      "text/latex": [
       "$\\displaystyle T_{1} = \\sqrt[4]{- \\frac{P \\epsilon_{r1}}{a_{2} \\epsilon_{e1} \\sigma} + \\frac{P \\epsilon_{r1}}{a_{2} \\epsilon_{e1} \\epsilon_{r2} \\sigma} + \\frac{P}{a_{1} \\epsilon_{e1} \\sigma} + \\frac{T_{2}^{4} \\epsilon_{e2} \\epsilon_{r1}}{\\epsilon_{e1} \\epsilon_{r2}}}$"
      ],
      "text/plain": [
       "Eq(T_1, (-P*epsilon_r1/(a2*epsilon_e1*sigma) + P*epsilon_r1/(a2*epsilon_e1*epsilon_r2*sigma) + P/(a1*epsilon_e1*sigma) + T_2**4*epsilon_e2*epsilon_r1/(epsilon_e1*epsilon_r2))**(1/4))"
      ]
     },
     "metadata": {},
     "output_type": "display_data"
    },
    {
     "name": "stdout",
     "output_type": "stream",
     "text": [
      "Heater outside temperature: 1131.47210025574\n"
     ]
    }
   ],
   "source": [
    "from sympy import init_printing, symbols, Eq, solve, pprint, pi\n",
    "import IPython.display as disp\n",
    "\n",
    "\n",
    "a1, a2 = symbols(\"a1, a2\")  # surface area\n",
    "eps_e1, eps_e2 = symbols(\"epsilon_e1, epsilon_e2\")  # emission for outgoing radiation\n",
    "eps_r1, eps_r2 = symbols(\"epsilon_r1, epsilon_r2\")  # emission for reflection / absorption\n",
    "eps_1, eps_2 = symbols(\"epsilon_1, epsilon_2\")  # emission for old case\n",
    "sigma = symbols(\"sigma\")  # Stefan-Boltzmann constant\n",
    "t1, t2 = symbols(\"T_1, T_2\")  # temperatures\n",
    "r1, r2 = symbols(\"r1, r2\")  # radiosities\n",
    "p = symbols(\"P\")  # power\n",
    "\n",
    "# eq1 = Eq(a1 / (1-eps_1)* (sigma*t1**4 - r1), p)  # old case\n",
    "eq1 = Eq(p, a1 / (1-eps_r1)* (sigma*eps_e1*t1**4 - eps_r1 *r1))  # new case\n",
    "r1 = solve([eq1], [r1])[r1]\n",
    "\n",
    "eq2 = Eq(a1*(r1 - r2), p)\n",
    "r2 = solve([eq2], [r2])[r2]\n",
    "\n",
    "# eq3 = Eq(a1 / (1-eps_1)* (sigma*t1**4 - r1), -a2 / (1-eps_2)* (sigma*t2**4 - r2))  # old case\n",
    "eq3 = Eq(a1 / (1-eps_r1)* (sigma*eps_e1*t1**4 - eps_r1 *r1), -a2 / (1-eps_r2)* (sigma*eps_e2*t2**4 - eps_r2 *r2))  # new case\n",
    "\n",
    "sol = solve([eq3], [t1])\n",
    "disp.display(Eq(t1, sol[-1][0]))\n",
    "\n",
    "t1_val = sol[-1][0].subs(\n",
    "    [\n",
    "        (eps_e1, eps_emission_heater),\n",
    "        (eps_r1, eps_reflection_heater),\n",
    "        (eps_e2, eps_emission_insulator),\n",
    "        (eps_r2, eps_reflection_insulation),\n",
    "        (sigma, sgm_sb),\n",
    "        (p, P),\n",
    "        (a1, 4*pi* r_ho**2),\n",
    "        (a2, 4*pi* r_ii**2),\n",
    "        (t2, T_ii)]\n",
    ")\n",
    "T_ho = t1_val.evalf()\n",
    "print(\"Heater outside temperature:\", T_ho)"
   ]
  },
  {
   "attachments": {},
   "cell_type": "markdown",
   "id": "18eb2441",
   "metadata": {},
   "source": [
    "The temperature distribution of the heater is given by:\n",
    "\\begin{align}\n",
    "    T_{h}(r) &= T_{h,o} + \\frac{P}{V_h}\\frac{1}{3\\lambda_{h}} \\left[\\frac{r^2_{h,o}}{2} - \\frac{r^2}{2} + \\frac{r^3_{h,i}}{r_{h,o}}-\\frac{r^3_{h,i}}{r} \\right],\n",
    "\\end{align}"
   ]
  },
  {
   "cell_type": "code",
   "execution_count": 14,
   "id": "bf106cd3",
   "metadata": {},
   "outputs": [
    {
     "name": "stdout",
     "output_type": "stream",
     "text": [
      "1156.91080017617\n"
     ]
    }
   ],
   "source": [
    "V_h = 4/3 * np.pi * (r_ho**3 - r_hi**3)\n",
    "def T_h(r):\n",
    "    return T_ho + P/(V_h*3*lmbd_h)*(r_ho**2/2 - r**2/2 + r_hi**3/r_ho - r_hi**3/r)\n",
    "print(T_h(r_hi))"
   ]
  },
  {
   "attachments": {},
   "cell_type": "markdown",
   "id": "8862bcf4",
   "metadata": {},
   "source": [
    "## Comparison (todo)\n",
    "\n",
    "Manual evaluation of numerically computed heat flux using ParaView, PlotOverLine, Save Data in csv format (extract-data.psvm)."
   ]
  },
  {
   "cell_type": "code",
   "execution_count": 9,
   "id": "f3e84a8d",
   "metadata": {},
   "outputs": [],
   "source": [
    "# # analytical\n",
    "# r_i = np.linspace(r_ii, r_io, 100)\n",
    "# r_h = np.linspace(r_hi, r_ho, 100)\n",
    "\n",
    "# # numerical\n",
    "# df = pd.read_csv('./simdata/line-data.csv')\n",
    "# fig, ax = plt.subplots(1, 1, figsize=(5.5, 4))\n",
    "# ax.grid(linestyle=\":\")\n",
    "# l1, = ax.plot(r_i, T_i(r_i), color=\"#1f77b4\")\n",
    "# l2, = ax.plot(r_h, T_h(r_h), color=\"#1f77b4\")\n",
    "\n",
    "# l3, = ax.plot(df['Points:0'], df['temperature'], color=\"#ff7f0e\")\n",
    "\n",
    "# ax.legend([l1, l3], [\"analytical\", \"numerical\"])\n",
    "# # ax.legend()\n",
    "# # ax.set_xlabel('radius [m]')\n",
    "# # ax.set_ylabel('joule heat $\\\\left[\\\\frac{\\\\mathrm{MW}}{\\mathrm{m}^3}\\\\right]$')\n",
    "# # fig.tight_layout()\n",
    "# # fig.savefig(\"verification_joule-heat.png\")\n",
    "# # plt.show()"
   ]
  }
 ],
 "metadata": {
  "kernelspec": {
   "display_name": "base",
   "language": "python",
   "name": "python3"
  },
  "language_info": {
   "codemirror_mode": {
    "name": "ipython",
    "version": 3
   },
   "file_extension": ".py",
   "mimetype": "text/x-python",
   "name": "python",
   "nbconvert_exporter": "python",
   "pygments_lexer": "ipython3",
   "version": "3.8.5 (default, Sep  3 2020, 21:29:08) [MSC v.1916 64 bit (AMD64)]"
  },
  "vscode": {
   "interpreter": {
    "hash": "3fe79ebdfe5b0c72d7b55e99635ccc24fad9d3af4b308f4d9c40912519481577"
   }
  }
 },
 "nbformat": 4,
 "nbformat_minor": 5
}
