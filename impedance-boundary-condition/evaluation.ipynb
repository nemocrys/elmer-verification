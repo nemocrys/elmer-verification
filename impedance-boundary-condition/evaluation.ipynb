{
 "cells": [
  {
   "attachments": {},
   "cell_type": "markdown",
   "metadata": {},
   "source": [
    "# Verification of impedance boundary condition"
   ]
  },
  {
   "attachments": {},
   "cell_type": "markdown",
   "metadata": {},
   "source": [
    "## Simulation results\n",
    "\n",
    "### With impedance BC"
   ]
  },
  {
   "cell_type": "code",
   "execution_count": 1,
   "metadata": {},
   "outputs": [
    {
     "data": {
      "text/html": [
       "<div>\n",
       "<style scoped>\n",
       "    .dataframe tbody tr th:only-of-type {\n",
       "        vertical-align: middle;\n",
       "    }\n",
       "\n",
       "    .dataframe tbody tr th {\n",
       "        vertical-align: top;\n",
       "    }\n",
       "\n",
       "    .dataframe thead th {\n",
       "        text-align: right;\n",
       "    }\n",
       "</style>\n",
       "<table border=\"1\" class=\"dataframe\">\n",
       "  <thead>\n",
       "    <tr style=\"text-align: right;\">\n",
       "      <th></th>\n",
       "      <th>res: eddy current power</th>\n",
       "      <th>res: electromagnetic field energy</th>\n",
       "      <th>res: surface current power</th>\n",
       "      <th>res: time</th>\n",
       "      <th>res: i_v1 re</th>\n",
       "      <th>res: i_v1 im</th>\n",
       "      <th>res: i_component(1) re</th>\n",
       "      <th>res: i_component(1) im</th>\n",
       "      <th>res: v_v1 re</th>\n",
       "      <th>res: v_v1 im</th>\n",
       "      <th>res: v_component(1) re</th>\n",
       "      <th>res: v_component(1) im</th>\n",
       "      <th>res: u_1_circuit_1 re</th>\n",
       "      <th>res: u_1_circuit_1 im</th>\n",
       "      <th>res: r_component(1)</th>\n",
       "      <th>res: p_dc_component(1)</th>\n",
       "    </tr>\n",
       "  </thead>\n",
       "  <tbody>\n",
       "    <tr>\n",
       "      <th>0</th>\n",
       "      <td>2.707224e-17</td>\n",
       "      <td>0.000282</td>\n",
       "      <td>2.666534e-10</td>\n",
       "      <td>1.0</td>\n",
       "      <td>-6027.067342</td>\n",
       "      <td>-0.005716</td>\n",
       "      <td>6027.067342</td>\n",
       "      <td>0.005716</td>\n",
       "      <td>-1.0</td>\n",
       "      <td>-3.543436e-25</td>\n",
       "      <td>1.0</td>\n",
       "      <td>7.398829e-23</td>\n",
       "      <td>1.0</td>\n",
       "      <td>3.382486e-25</td>\n",
       "      <td>0.000166</td>\n",
       "      <td>6027.06706</td>\n",
       "    </tr>\n",
       "  </tbody>\n",
       "</table>\n",
       "</div>"
      ],
      "text/plain": [
       "   res: eddy current power  res: electromagnetic field energy  \\\n",
       "0             2.707224e-17                           0.000282   \n",
       "\n",
       "   res: surface current power  res: time  res: i_v1 re  res: i_v1 im  \\\n",
       "0                2.666534e-10        1.0  -6027.067342     -0.005716   \n",
       "\n",
       "   res: i_component(1) re  res: i_component(1) im  res: v_v1 re  res: v_v1 im  \\\n",
       "0             6027.067342                0.005716          -1.0 -3.543436e-25   \n",
       "\n",
       "   res: v_component(1) re  res: v_component(1) im  res: u_1_circuit_1 re  \\\n",
       "0                     1.0            7.398829e-23                    1.0   \n",
       "\n",
       "   res: u_1_circuit_1 im  res: r_component(1)  res: p_dc_component(1)  \n",
       "0           3.382486e-25             0.000166              6027.06706  "
      ]
     },
     "metadata": {},
     "output_type": "display_data"
    }
   ],
   "source": [
    "from IPython.display import display\n",
    "from pyelmer.post import dat_to_dataframe\n",
    "\n",
    "df = dat_to_dataframe(\"wire_impedanceBC_circuit/results/open_wire.dat\")\n",
    "display(df)"
   ]
  },
  {
   "attachments": {},
   "cell_type": "markdown",
   "metadata": {},
   "source": [
    "### Without impedance BC"
   ]
  },
  {
   "cell_type": "code",
   "execution_count": 2,
   "metadata": {},
   "outputs": [
    {
     "data": {
      "text/html": [
       "<div>\n",
       "<style scoped>\n",
       "    .dataframe tbody tr th:only-of-type {\n",
       "        vertical-align: middle;\n",
       "    }\n",
       "\n",
       "    .dataframe tbody tr th {\n",
       "        vertical-align: top;\n",
       "    }\n",
       "\n",
       "    .dataframe thead th {\n",
       "        text-align: right;\n",
       "    }\n",
       "</style>\n",
       "<table border=\"1\" class=\"dataframe\">\n",
       "  <thead>\n",
       "    <tr style=\"text-align: right;\">\n",
       "      <th></th>\n",
       "      <th>res: eddy current power</th>\n",
       "      <th>res: electromagnetic field energy</th>\n",
       "      <th>res: time</th>\n",
       "      <th>res: i_v1 re</th>\n",
       "      <th>res: i_v1 im</th>\n",
       "      <th>res: i_component(1) re</th>\n",
       "      <th>res: i_component(1) im</th>\n",
       "      <th>res: v_v1 re</th>\n",
       "      <th>res: v_v1 im</th>\n",
       "      <th>res: v_component(1) re</th>\n",
       "      <th>res: v_component(1) im</th>\n",
       "      <th>res: u_1_circuit_1 re</th>\n",
       "      <th>res: u_1_circuit_1 im</th>\n",
       "      <th>res: r_component(1)</th>\n",
       "      <th>res: p_dc_component(1)</th>\n",
       "    </tr>\n",
       "  </thead>\n",
       "  <tbody>\n",
       "    <tr>\n",
       "      <th>0</th>\n",
       "      <td>7.881365</td>\n",
       "      <td>0.000148</td>\n",
       "      <td>1.0</td>\n",
       "      <td>-15.76273</td>\n",
       "      <td>295.219548</td>\n",
       "      <td>15.76273</td>\n",
       "      <td>-295.219548</td>\n",
       "      <td>-1.0</td>\n",
       "      <td>-3.426294e-25</td>\n",
       "      <td>1.0</td>\n",
       "      <td>-2.958282e-20</td>\n",
       "      <td>1.0</td>\n",
       "      <td>1.346168e-24</td>\n",
       "      <td>3188.217887</td>\n",
       "      <td>2.786600e+08</td>\n",
       "    </tr>\n",
       "  </tbody>\n",
       "</table>\n",
       "</div>"
      ],
      "text/plain": [
       "   res: eddy current power  res: electromagnetic field energy  res: time  \\\n",
       "0                 7.881365                           0.000148        1.0   \n",
       "\n",
       "   res: i_v1 re  res: i_v1 im  res: i_component(1) re  res: i_component(1) im  \\\n",
       "0     -15.76273    295.219548                15.76273             -295.219548   \n",
       "\n",
       "   res: v_v1 re  res: v_v1 im  res: v_component(1) re  res: v_component(1) im  \\\n",
       "0          -1.0 -3.426294e-25                     1.0           -2.958282e-20   \n",
       "\n",
       "   res: u_1_circuit_1 re  res: u_1_circuit_1 im  res: r_component(1)  \\\n",
       "0                    1.0           1.346168e-24          3188.217887   \n",
       "\n",
       "   res: p_dc_component(1)  \n",
       "0            2.786600e+08  "
      ]
     },
     "metadata": {},
     "output_type": "display_data"
    }
   ],
   "source": [
    "df = dat_to_dataframe(\"wire_no_impedanceBC_circuit/results/open_wire.dat\")\n",
    "display(df)"
   ]
  },
  {
   "attachments": {},
   "cell_type": "markdown",
   "metadata": {},
   "source": [
    "## Analytical solution\n",
    "\n",
    "Based on *E.J. Davies, Conduction and Induction Heating, IEE Power Engineering Series 11, 1990*, chapter 4."
   ]
  },
  {
   "cell_type": "code",
   "execution_count": 2,
   "metadata": {},
   "outputs": [],
   "source": [
    "import numpy as np\n",
    "from scipy.special import jv"
   ]
  },
  {
   "cell_type": "code",
   "execution_count": 3,
   "metadata": {},
   "outputs": [
    {
     "name": "stdout",
     "output_type": "stream",
     "text": [
      "delta = 1.656518e-04 m\n"
     ]
    }
   ],
   "source": [
    "sigma = 58e6\n",
    "omega = 1e6\n",
    "delta =  (2 / ( sigma * omega * 4e-7 * np.pi))**0.5\n",
    "print(f\"delta = {delta:3e} m\")"
   ]
  },
  {
   "cell_type": "code",
   "execution_count": null,
   "metadata": {},
   "outputs": [],
   "source": []
  }
 ],
 "metadata": {
  "kernelspec": {
   "display_name": "base",
   "language": "python",
   "name": "python3"
  },
  "language_info": {
   "codemirror_mode": {
    "name": "ipython",
    "version": 3
   },
   "file_extension": ".py",
   "mimetype": "text/x-python",
   "name": "python",
   "nbconvert_exporter": "python",
   "pygments_lexer": "ipython3",
   "version": "3.8.5"
  },
  "orig_nbformat": 4
 },
 "nbformat": 4,
 "nbformat_minor": 2
}
