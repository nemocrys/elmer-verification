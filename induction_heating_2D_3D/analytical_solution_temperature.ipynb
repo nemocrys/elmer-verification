{
 "cells": [
  {
   "attachments": {},
   "cell_type": "markdown",
   "metadata": {},
   "source": [
    "## Analytical solution of cylinder surface temperature"
   ]
  },
  {
   "cell_type": "code",
   "execution_count": 1,
   "metadata": {},
   "outputs": [],
   "source": [
    "from sympy import *\n",
    "import IPython.display as disp"
   ]
  },
  {
   "attachments": {},
   "cell_type": "markdown",
   "metadata": {},
   "source": [
    "### Variable definition"
   ]
  },
  {
   "cell_type": "code",
   "execution_count": 2,
   "metadata": {},
   "outputs": [],
   "source": [
    "r, r_e, l = symbols(\"r, r_e, ell\", real=True, positive=True)  # dimensions\n",
    "sigma, lmbd, eps = symbols(\"sigma, lambda, epsilon\", real=True, positive=True)  # material properties\n",
    "mu_0, sigma_sb = symbols(\"mu_0, sigma_sb\", real=True, positive=True)  # physical constants\n",
    "t_ext, t_surf = symbols(\"T_ext, T_surf\", real=True, positive=True)  # temperatures\n",
    "H, omega = symbols(\"H, omega\", real=True, positive=True)  # electromagnetic properties\n",
    "alpha = symbols(\"alpha\", real=True, positive=True)  # heat transfer coefficient\n",
    "\n",
    "values = [\n",
    "    (r_e, 0.06),\n",
    "    (sigma, 58.8e3),\n",
    "    (eps, 0.7),\n",
    "    (sigma_sb, 5.6704e-8),\n",
    "    (t_ext, 300),\n",
    "    (H, 3*100/0.05),  # N*I/l\n",
    "    (mu_0, 4*pi*1e-7),\n",
    "    (omega, 2 * pi* 13.5e3),\n",
    "    (lmbd, 65),\n",
    "    (l, 0.05),\n",
    "    (alpha, 10),\n",
    "]"
   ]
  },
  {
   "attachments": {},
   "cell_type": "markdown",
   "metadata": {},
   "source": [
    "### Compute heat source"
   ]
  },
  {
   "cell_type": "code",
   "execution_count": 5,
   "metadata": {},
   "outputs": [
    {
     "data": {
      "text/latex": [
       "$\\displaystyle 1656752.95167065$"
      ],
      "text/plain": [
       "1656752.95167065"
      ]
     },
     "metadata": {},
     "output_type": "display_data"
    },
    {
     "data": {
      "text/latex": [
       "$\\displaystyle Q = \\frac{\\pi H^{2} \\ell \\mu_{0} \\omega \\left(- \\frac{i r_{e} \\sqrt{- i} J_{0}\\left(\\sqrt{\\mu_{0}} \\sqrt{\\omega} r_{e} \\sqrt{\\sigma} \\sqrt{- i}\\right) J_{1}\\left(\\frac{\\sqrt{2} \\sqrt{\\mu_{0}} \\sqrt{\\omega} r_{e} \\sqrt{\\sigma}}{2} + \\frac{\\sqrt{2} i \\sqrt{\\mu_{0}} \\sqrt{\\omega} r_{e} \\sqrt{\\sigma}}{2}\\right)}{2 \\sqrt{\\mu_{0}} \\sqrt{\\omega} \\sqrt{\\sigma}} - \\frac{\\sqrt{2} r_{e} J_{0}\\left(\\frac{\\sqrt{2} \\sqrt{\\mu_{0}} \\sqrt{\\omega} r_{e} \\sqrt{\\sigma}}{2} + \\frac{\\sqrt{2} i \\sqrt{\\mu_{0}} \\sqrt{\\omega} r_{e} \\sqrt{\\sigma}}{2}\\right) J_{1}\\left(\\sqrt{\\mu_{0}} \\sqrt{\\omega} r_{e} \\sqrt{\\sigma} \\sqrt{- i}\\right)}{4 \\sqrt{\\mu_{0}} \\sqrt{\\omega} \\sqrt{\\sigma}} + \\frac{\\sqrt{2} i r_{e} J_{0}\\left(\\frac{\\sqrt{2} \\sqrt{\\mu_{0}} \\sqrt{\\omega} r_{e} \\sqrt{\\sigma}}{2} + \\frac{\\sqrt{2} i \\sqrt{\\mu_{0}} \\sqrt{\\omega} r_{e} \\sqrt{\\sigma}}{2}\\right) J_{1}\\left(\\sqrt{\\mu_{0}} \\sqrt{\\omega} r_{e} \\sqrt{\\sigma} \\sqrt{- i}\\right)}{4 \\sqrt{\\mu_{0}} \\sqrt{\\omega} \\sqrt{\\sigma}}\\right)}{J_{0}\\left(\\sqrt{\\mu_{0}} \\sqrt{\\omega} r_{e} \\sqrt{\\sigma} \\sqrt{- i}\\right) J_{0}\\left(\\frac{\\sqrt{2} \\sqrt{\\mu_{0}} \\sqrt{\\omega} r_{e} \\sqrt{\\sigma}}{2} + \\frac{\\sqrt{2} i \\sqrt{\\mu_{0}} \\sqrt{\\omega} r_{e} \\sqrt{\\sigma}}{2}\\right)}$"
      ],
      "text/plain": [
       "Eq(Q, pi*H**2*ell*mu_0*omega*(-I*r_e*sqrt(-I)*besselj(0, sqrt(mu_0)*sqrt(omega)*r_e*sqrt(sigma)*sqrt(-I))*besselj(1, sqrt(2)*sqrt(mu_0)*sqrt(omega)*r_e*sqrt(sigma)/2 + sqrt(2)*I*sqrt(mu_0)*sqrt(omega)*r_e*sqrt(sigma)/2)/(2*sqrt(mu_0)*sqrt(omega)*sqrt(sigma)) - sqrt(2)*r_e*besselj(0, sqrt(2)*sqrt(mu_0)*sqrt(omega)*r_e*sqrt(sigma)/2 + sqrt(2)*I*sqrt(mu_0)*sqrt(omega)*r_e*sqrt(sigma)/2)*besselj(1, sqrt(mu_0)*sqrt(omega)*r_e*sqrt(sigma)*sqrt(-I))/(4*sqrt(mu_0)*sqrt(omega)*sqrt(sigma)) + sqrt(2)*I*r_e*besselj(0, sqrt(2)*sqrt(mu_0)*sqrt(omega)*r_e*sqrt(sigma)/2 + sqrt(2)*I*sqrt(mu_0)*sqrt(omega)*r_e*sqrt(sigma)/2)*besselj(1, sqrt(mu_0)*sqrt(omega)*r_e*sqrt(sigma)*sqrt(-I))/(4*sqrt(mu_0)*sqrt(omega)*sqrt(sigma)))/(besselj(0, sqrt(mu_0)*sqrt(omega)*r_e*sqrt(sigma)*sqrt(-I))*besselj(0, sqrt(2)*sqrt(mu_0)*sqrt(omega)*r_e*sqrt(sigma)/2 + sqrt(2)*I*sqrt(mu_0)*sqrt(omega)*r_e*sqrt(sigma)/2)))"
      ]
     },
     "metadata": {},
     "output_type": "display_data"
    },
    {
     "data": {
      "text/latex": [
       "$\\displaystyle 273.760247555939$"
      ],
      "text/plain": [
       "273.760247555939"
      ]
     },
     "metadata": {},
     "output_type": "display_data"
    }
   ],
   "source": [
    "delta =  sqrt(2 / (mu_0 * sigma * omega ))\n",
    "m = sqrt(2) *r_e / delta\n",
    "xi = r / r_e\n",
    "j = sqrt(-I)*sqrt(2) * H / delta * besselj(1, sqrt(-I) * m * xi) / besselj(0, sqrt(-I) * m)\n",
    "\n",
    "\n",
    "h = 1/sigma * abs(j)**2 / 2  # heat source\n",
    "disp.display(h.subs(r, r_e).subs(values).evalf(chop=True))  # this should be 1656752.9516706455 (as computed with scipy)\n",
    "q = integrate(h*r*2*pi*l, (r, 0, r_e))  # total heat in W\n",
    "disp.display(Eq(symbols(\"Q\"), q))\n",
    "disp.display(q.subs(values).evalf(chop=True))\n",
    "\n",
    "# # check result: compute power according to Lupi 2017 p.367 eqn 6.17\n",
    "# P = re(-sqrt(-I) * besselj(1, sqrt(-I) * m) / besselj(0, sqrt(-I) * m))\n",
    "# q_lupi = H**2 / 2 / sigma / delta * 2**0.5 * P * 2 * pi * r_e * l\n",
    "# disp.display(q_lupi.subs(values).evalf())"
   ]
  },
  {
   "attachments": {},
   "cell_type": "markdown",
   "metadata": {},
   "source": [
    "### Compute temperature of outer surface"
   ]
  },
  {
   "cell_type": "code",
   "execution_count": 6,
   "metadata": {},
   "outputs": [
    {
     "data": {
      "text/latex": [
       "$\\displaystyle P_{ind} = 2 \\pi \\ell r_{e} \\left(\\alpha \\left(- T_{ext} + T_{surf}\\right) + \\epsilon \\sigma_{sb} \\left(- T_{ext}^{4} + T_{surf}^{4}\\right)\\right)$"
      ],
      "text/plain": [
       "Eq(P_ind, 2*pi*ell*r_e*(alpha*(-T_ext + T_surf) + epsilon*sigma_sb*(-T_ext**4 + T_surf**4)))"
      ]
     },
     "metadata": {},
     "output_type": "display_data"
    },
    {
     "data": {
      "text/latex": [
       "$\\displaystyle \\left\\{\\frac{\\sqrt{6} \\left(- \\sqrt[4]{\\pi} \\sqrt[4]{\\ell} \\sqrt[4]{r_{e}} \\sqrt{- 4 \\cdot \\sqrt[3]{18} \\sqrt[3]{\\epsilon} \\sqrt[3]{\\sigma_{sb}} \\left(P_{ind} + 2 \\pi T_{ext}^{4} \\ell \\epsilon r_{e} \\sigma_{sb} + 2 \\pi T_{ext} \\alpha \\ell r_{e}\\right) + \\sqrt[3]{12} \\left(9 \\pi^{\\frac{3}{2}} \\alpha^{2} \\ell^{\\frac{3}{2}} r_{e}^{\\frac{3}{2}} + \\sqrt{3} \\sqrt{27 \\pi^{3} \\alpha^{4} \\ell^{3} r_{e}^{3} + 32 \\epsilon \\sigma_{sb} \\left(P_{ind} + 2 \\pi T_{ext}^{4} \\ell \\epsilon r_{e} \\sigma_{sb} + 2 \\pi T_{ext} \\alpha \\ell r_{e}\\right)^{3}}\\right)^{\\frac{2}{3}}} + \\sqrt{\\frac{12 \\sqrt{6} \\pi^{\\frac{5}{4}} \\alpha \\ell^{\\frac{5}{4}} r_{e}^{\\frac{5}{4}} \\sqrt{9 \\pi^{\\frac{3}{2}} \\alpha^{2} \\ell^{\\frac{3}{2}} r_{e}^{\\frac{3}{2}} + \\sqrt{3} \\sqrt{27 \\pi^{3} \\alpha^{4} \\ell^{3} r_{e}^{3} + 32 \\epsilon \\sigma_{sb} \\left(P_{ind} + 2 \\pi T_{ext}^{4} \\ell \\epsilon r_{e} \\sigma_{sb} + 2 \\pi T_{ext} \\alpha \\ell r_{e}\\right)^{3}}}}{\\sqrt{- 4 \\cdot \\sqrt[3]{18} \\sqrt[3]{\\epsilon} \\sqrt[3]{\\sigma_{sb}} \\left(P_{ind} + 2 \\pi T_{ext}^{4} \\ell \\epsilon r_{e} \\sigma_{sb} + 2 \\pi T_{ext} \\alpha \\ell r_{e}\\right) + \\sqrt[3]{12} \\left(9 \\pi^{\\frac{3}{2}} \\alpha^{2} \\ell^{\\frac{3}{2}} r_{e}^{\\frac{3}{2}} + \\sqrt{3} \\sqrt{27 \\pi^{3} \\alpha^{4} \\ell^{3} r_{e}^{3} + 32 \\epsilon \\sigma_{sb} \\left(P_{ind} + 2 \\pi T_{ext}^{4} \\ell \\epsilon r_{e} \\sigma_{sb} + 2 \\pi T_{ext} \\alpha \\ell r_{e}\\right)^{3}}\\right)^{\\frac{2}{3}}}} + 4 \\cdot \\sqrt[3]{18} \\sqrt{\\pi} \\sqrt{\\ell} \\sqrt[3]{\\epsilon} \\sqrt{r_{e}} \\sqrt[3]{\\sigma_{sb}} \\left(P_{ind} + 2 \\pi T_{ext}^{4} \\ell \\epsilon r_{e} \\sigma_{sb} + 2 \\pi T_{ext} \\alpha \\ell r_{e}\\right) - \\sqrt[3]{12} \\sqrt{\\pi} \\sqrt{\\ell} \\sqrt{r_{e}} \\left(9 \\pi^{\\frac{3}{2}} \\alpha^{2} \\ell^{\\frac{3}{2}} r_{e}^{\\frac{3}{2}} + \\sqrt{3} \\sqrt{27 \\pi^{3} \\alpha^{4} \\ell^{3} r_{e}^{3} + 32 \\epsilon \\sigma_{sb} \\left(P_{ind} + 2 \\pi T_{ext}^{4} \\ell \\epsilon r_{e} \\sigma_{sb} + 2 \\pi T_{ext} \\alpha \\ell r_{e}\\right)^{3}}\\right)^{\\frac{2}{3}}}\\right)}{12 \\sqrt{\\pi} \\sqrt{\\ell} \\sqrt[3]{\\epsilon} \\sqrt{r_{e}} \\sqrt[3]{\\sigma_{sb}} \\sqrt[6]{9 \\pi^{\\frac{3}{2}} \\alpha^{2} \\ell^{\\frac{3}{2}} r_{e}^{\\frac{3}{2}} + \\sqrt{3} \\sqrt{27 \\pi^{3} \\alpha^{4} \\ell^{3} r_{e}^{3} + 32 \\epsilon \\sigma_{sb} \\left(P_{ind} + 2 \\pi T_{ext}^{4} \\ell \\epsilon r_{e} \\sigma_{sb} + 2 \\pi T_{ext} \\alpha \\ell r_{e}\\right)^{3}}}}, \\frac{\\sqrt{6} \\left(\\sqrt[4]{\\pi} \\sqrt[4]{\\ell} \\sqrt[4]{r_{e}} \\sqrt{- 4 \\cdot \\sqrt[3]{18} \\sqrt[3]{\\epsilon} \\sqrt[3]{\\sigma_{sb}} \\left(P_{ind} + 2 \\pi T_{ext}^{4} \\ell \\epsilon r_{e} \\sigma_{sb} + 2 \\pi T_{ext} \\alpha \\ell r_{e}\\right) + \\sqrt[3]{12} \\left(9 \\pi^{\\frac{3}{2}} \\alpha^{2} \\ell^{\\frac{3}{2}} r_{e}^{\\frac{3}{2}} + \\sqrt{3} \\sqrt{27 \\pi^{3} \\alpha^{4} \\ell^{3} r_{e}^{3} + 32 \\epsilon \\sigma_{sb} \\left(P_{ind} + 2 \\pi T_{ext}^{4} \\ell \\epsilon r_{e} \\sigma_{sb} + 2 \\pi T_{ext} \\alpha \\ell r_{e}\\right)^{3}}\\right)^{\\frac{2}{3}}} - \\sqrt{- \\frac{12 \\sqrt{6} \\pi^{\\frac{5}{4}} \\alpha \\ell^{\\frac{5}{4}} r_{e}^{\\frac{5}{4}} \\sqrt{9 \\pi^{\\frac{3}{2}} \\alpha^{2} \\ell^{\\frac{3}{2}} r_{e}^{\\frac{3}{2}} + \\sqrt{3} \\sqrt{27 \\pi^{3} \\alpha^{4} \\ell^{3} r_{e}^{3} + 32 \\epsilon \\sigma_{sb} \\left(P_{ind} + 2 \\pi T_{ext}^{4} \\ell \\epsilon r_{e} \\sigma_{sb} + 2 \\pi T_{ext} \\alpha \\ell r_{e}\\right)^{3}}}}{\\sqrt{- 4 \\cdot \\sqrt[3]{18} \\sqrt[3]{\\epsilon} \\sqrt[3]{\\sigma_{sb}} \\left(P_{ind} + 2 \\pi T_{ext}^{4} \\ell \\epsilon r_{e} \\sigma_{sb} + 2 \\pi T_{ext} \\alpha \\ell r_{e}\\right) + \\sqrt[3]{12} \\left(9 \\pi^{\\frac{3}{2}} \\alpha^{2} \\ell^{\\frac{3}{2}} r_{e}^{\\frac{3}{2}} + \\sqrt{3} \\sqrt{27 \\pi^{3} \\alpha^{4} \\ell^{3} r_{e}^{3} + 32 \\epsilon \\sigma_{sb} \\left(P_{ind} + 2 \\pi T_{ext}^{4} \\ell \\epsilon r_{e} \\sigma_{sb} + 2 \\pi T_{ext} \\alpha \\ell r_{e}\\right)^{3}}\\right)^{\\frac{2}{3}}}} + 4 \\cdot \\sqrt[3]{18} \\sqrt{\\pi} \\sqrt{\\ell} \\sqrt[3]{\\epsilon} \\sqrt{r_{e}} \\sqrt[3]{\\sigma_{sb}} \\left(P_{ind} + 2 \\pi T_{ext}^{4} \\ell \\epsilon r_{e} \\sigma_{sb} + 2 \\pi T_{ext} \\alpha \\ell r_{e}\\right) - \\sqrt[3]{12} \\sqrt{\\pi} \\sqrt{\\ell} \\sqrt{r_{e}} \\left(9 \\pi^{\\frac{3}{2}} \\alpha^{2} \\ell^{\\frac{3}{2}} r_{e}^{\\frac{3}{2}} + \\sqrt{3} \\sqrt{27 \\pi^{3} \\alpha^{4} \\ell^{3} r_{e}^{3} + 32 \\epsilon \\sigma_{sb} \\left(P_{ind} + 2 \\pi T_{ext}^{4} \\ell \\epsilon r_{e} \\sigma_{sb} + 2 \\pi T_{ext} \\alpha \\ell r_{e}\\right)^{3}}\\right)^{\\frac{2}{3}}}\\right)}{12 \\sqrt{\\pi} \\sqrt{\\ell} \\sqrt[3]{\\epsilon} \\sqrt{r_{e}} \\sqrt[3]{\\sigma_{sb}} \\sqrt[6]{9 \\pi^{\\frac{3}{2}} \\alpha^{2} \\ell^{\\frac{3}{2}} r_{e}^{\\frac{3}{2}} + \\sqrt{3} \\sqrt{27 \\pi^{3} \\alpha^{4} \\ell^{3} r_{e}^{3} + 32 \\epsilon \\sigma_{sb} \\left(P_{ind} + 2 \\pi T_{ext}^{4} \\ell \\epsilon r_{e} \\sigma_{sb} + 2 \\pi T_{ext} \\alpha \\ell r_{e}\\right)^{3}}}}, \\frac{\\sqrt{6} \\left(\\sqrt[4]{\\pi} \\sqrt[4]{\\ell} \\sqrt[4]{r_{e}} \\sqrt{- 4 \\cdot \\sqrt[3]{18} \\sqrt[3]{\\epsilon} \\sqrt[3]{\\sigma_{sb}} \\left(P_{ind} + 2 \\pi T_{ext}^{4} \\ell \\epsilon r_{e} \\sigma_{sb} + 2 \\pi T_{ext} \\alpha \\ell r_{e}\\right) + \\sqrt[3]{12} \\left(9 \\pi^{\\frac{3}{2}} \\alpha^{2} \\ell^{\\frac{3}{2}} r_{e}^{\\frac{3}{2}} + \\sqrt{3} \\sqrt{27 \\pi^{3} \\alpha^{4} \\ell^{3} r_{e}^{3} + 32 \\epsilon \\sigma_{sb} \\left(P_{ind} + 2 \\pi T_{ext}^{4} \\ell \\epsilon r_{e} \\sigma_{sb} + 2 \\pi T_{ext} \\alpha \\ell r_{e}\\right)^{3}}\\right)^{\\frac{2}{3}}} + \\sqrt{- \\frac{12 \\sqrt{6} \\pi^{\\frac{5}{4}} \\alpha \\ell^{\\frac{5}{4}} r_{e}^{\\frac{5}{4}} \\sqrt{9 \\pi^{\\frac{3}{2}} \\alpha^{2} \\ell^{\\frac{3}{2}} r_{e}^{\\frac{3}{2}} + \\sqrt{3} \\sqrt{27 \\pi^{3} \\alpha^{4} \\ell^{3} r_{e}^{3} + 32 \\epsilon \\sigma_{sb} \\left(P_{ind} + 2 \\pi T_{ext}^{4} \\ell \\epsilon r_{e} \\sigma_{sb} + 2 \\pi T_{ext} \\alpha \\ell r_{e}\\right)^{3}}}}{\\sqrt{- 4 \\cdot \\sqrt[3]{18} \\sqrt[3]{\\epsilon} \\sqrt[3]{\\sigma_{sb}} \\left(P_{ind} + 2 \\pi T_{ext}^{4} \\ell \\epsilon r_{e} \\sigma_{sb} + 2 \\pi T_{ext} \\alpha \\ell r_{e}\\right) + \\sqrt[3]{12} \\left(9 \\pi^{\\frac{3}{2}} \\alpha^{2} \\ell^{\\frac{3}{2}} r_{e}^{\\frac{3}{2}} + \\sqrt{3} \\sqrt{27 \\pi^{3} \\alpha^{4} \\ell^{3} r_{e}^{3} + 32 \\epsilon \\sigma_{sb} \\left(P_{ind} + 2 \\pi T_{ext}^{4} \\ell \\epsilon r_{e} \\sigma_{sb} + 2 \\pi T_{ext} \\alpha \\ell r_{e}\\right)^{3}}\\right)^{\\frac{2}{3}}}} + 4 \\cdot \\sqrt[3]{18} \\sqrt{\\pi} \\sqrt{\\ell} \\sqrt[3]{\\epsilon} \\sqrt{r_{e}} \\sqrt[3]{\\sigma_{sb}} \\left(P_{ind} + 2 \\pi T_{ext}^{4} \\ell \\epsilon r_{e} \\sigma_{sb} + 2 \\pi T_{ext} \\alpha \\ell r_{e}\\right) - \\sqrt[3]{12} \\sqrt{\\pi} \\sqrt{\\ell} \\sqrt{r_{e}} \\left(9 \\pi^{\\frac{3}{2}} \\alpha^{2} \\ell^{\\frac{3}{2}} r_{e}^{\\frac{3}{2}} + \\sqrt{3} \\sqrt{27 \\pi^{3} \\alpha^{4} \\ell^{3} r_{e}^{3} + 32 \\epsilon \\sigma_{sb} \\left(P_{ind} + 2 \\pi T_{ext}^{4} \\ell \\epsilon r_{e} \\sigma_{sb} + 2 \\pi T_{ext} \\alpha \\ell r_{e}\\right)^{3}}\\right)^{\\frac{2}{3}}}\\right)}{12 \\sqrt{\\pi} \\sqrt{\\ell} \\sqrt[3]{\\epsilon} \\sqrt{r_{e}} \\sqrt[3]{\\sigma_{sb}} \\sqrt[6]{9 \\pi^{\\frac{3}{2}} \\alpha^{2} \\ell^{\\frac{3}{2}} r_{e}^{\\frac{3}{2}} + \\sqrt{3} \\sqrt{27 \\pi^{3} \\alpha^{4} \\ell^{3} r_{e}^{3} + 32 \\epsilon \\sigma_{sb} \\left(P_{ind} + 2 \\pi T_{ext}^{4} \\ell \\epsilon r_{e} \\sigma_{sb} + 2 \\pi T_{ext} \\alpha \\ell r_{e}\\right)^{3}}}}, - \\frac{\\sqrt{6} \\left(\\sqrt[4]{\\pi} \\sqrt[4]{\\ell} \\sqrt[4]{r_{e}} \\sqrt{- 4 \\cdot \\sqrt[3]{18} \\sqrt[3]{\\epsilon} \\sqrt[3]{\\sigma_{sb}} \\left(P_{ind} + 2 \\pi T_{ext}^{4} \\ell \\epsilon r_{e} \\sigma_{sb} + 2 \\pi T_{ext} \\alpha \\ell r_{e}\\right) + \\sqrt[3]{12} \\left(9 \\pi^{\\frac{3}{2}} \\alpha^{2} \\ell^{\\frac{3}{2}} r_{e}^{\\frac{3}{2}} + \\sqrt{3} \\sqrt{27 \\pi^{3} \\alpha^{4} \\ell^{3} r_{e}^{3} + 32 \\epsilon \\sigma_{sb} \\left(P_{ind} + 2 \\pi T_{ext}^{4} \\ell \\epsilon r_{e} \\sigma_{sb} + 2 \\pi T_{ext} \\alpha \\ell r_{e}\\right)^{3}}\\right)^{\\frac{2}{3}}} + \\sqrt{\\frac{12 \\sqrt{6} \\pi^{\\frac{5}{4}} \\alpha \\ell^{\\frac{5}{4}} r_{e}^{\\frac{5}{4}} \\sqrt{9 \\pi^{\\frac{3}{2}} \\alpha^{2} \\ell^{\\frac{3}{2}} r_{e}^{\\frac{3}{2}} + \\sqrt{3} \\sqrt{27 \\pi^{3} \\alpha^{4} \\ell^{3} r_{e}^{3} + 32 \\epsilon \\sigma_{sb} \\left(P_{ind} + 2 \\pi T_{ext}^{4} \\ell \\epsilon r_{e} \\sigma_{sb} + 2 \\pi T_{ext} \\alpha \\ell r_{e}\\right)^{3}}}}{\\sqrt{- 4 \\cdot \\sqrt[3]{18} \\sqrt[3]{\\epsilon} \\sqrt[3]{\\sigma_{sb}} \\left(P_{ind} + 2 \\pi T_{ext}^{4} \\ell \\epsilon r_{e} \\sigma_{sb} + 2 \\pi T_{ext} \\alpha \\ell r_{e}\\right) + \\sqrt[3]{12} \\left(9 \\pi^{\\frac{3}{2}} \\alpha^{2} \\ell^{\\frac{3}{2}} r_{e}^{\\frac{3}{2}} + \\sqrt{3} \\sqrt{27 \\pi^{3} \\alpha^{4} \\ell^{3} r_{e}^{3} + 32 \\epsilon \\sigma_{sb} \\left(P_{ind} + 2 \\pi T_{ext}^{4} \\ell \\epsilon r_{e} \\sigma_{sb} + 2 \\pi T_{ext} \\alpha \\ell r_{e}\\right)^{3}}\\right)^{\\frac{2}{3}}}} + 4 \\cdot \\sqrt[3]{18} \\sqrt{\\pi} \\sqrt{\\ell} \\sqrt[3]{\\epsilon} \\sqrt{r_{e}} \\sqrt[3]{\\sigma_{sb}} \\left(P_{ind} + 2 \\pi T_{ext}^{4} \\ell \\epsilon r_{e} \\sigma_{sb} + 2 \\pi T_{ext} \\alpha \\ell r_{e}\\right) - \\sqrt[3]{12} \\sqrt{\\pi} \\sqrt{\\ell} \\sqrt{r_{e}} \\left(9 \\pi^{\\frac{3}{2}} \\alpha^{2} \\ell^{\\frac{3}{2}} r_{e}^{\\frac{3}{2}} + \\sqrt{3} \\sqrt{27 \\pi^{3} \\alpha^{4} \\ell^{3} r_{e}^{3} + 32 \\epsilon \\sigma_{sb} \\left(P_{ind} + 2 \\pi T_{ext}^{4} \\ell \\epsilon r_{e} \\sigma_{sb} + 2 \\pi T_{ext} \\alpha \\ell r_{e}\\right)^{3}}\\right)^{\\frac{2}{3}}}\\right)}{12 \\sqrt{\\pi} \\sqrt{\\ell} \\sqrt[3]{\\epsilon} \\sqrt{r_{e}} \\sqrt[3]{\\sigma_{sb}} \\sqrt[6]{9 \\pi^{\\frac{3}{2}} \\alpha^{2} \\ell^{\\frac{3}{2}} r_{e}^{\\frac{3}{2}} + \\sqrt{3} \\sqrt{27 \\pi^{3} \\alpha^{4} \\ell^{3} r_{e}^{3} + 32 \\epsilon \\sigma_{sb} \\left(P_{ind} + 2 \\pi T_{ext}^{4} \\ell \\epsilon r_{e} \\sigma_{sb} + 2 \\pi T_{ext} \\alpha \\ell r_{e}\\right)^{3}}}}\\right\\}$"
      ],
      "text/plain": [
       "{sqrt(6)*(-pi**(1/4)*ell**(1/4)*r_e**(1/4)*sqrt(-4*18**(1/3)*epsilon**(1/3)*sigma_sb**(1/3)*(P_ind + 2*pi*T_ext**4*ell*epsilon*r_e*sigma_sb + 2*pi*T_ext*alpha*ell*r_e) + 12**(1/3)*(9*pi**(3/2)*alpha**2*ell**(3/2)*r_e**(3/2) + sqrt(3)*sqrt(27*pi**3*alpha**4*ell**3*r_e**3 + 32*epsilon*sigma_sb*(P_ind + 2*pi*T_ext**4*ell*epsilon*r_e*sigma_sb + 2*pi*T_ext*alpha*ell*r_e)**3))**(2/3)) + sqrt(12*sqrt(6)*pi**(5/4)*alpha*ell**(5/4)*r_e**(5/4)*sqrt(9*pi**(3/2)*alpha**2*ell**(3/2)*r_e**(3/2) + sqrt(3)*sqrt(27*pi**3*alpha**4*ell**3*r_e**3 + 32*epsilon*sigma_sb*(P_ind + 2*pi*T_ext**4*ell*epsilon*r_e*sigma_sb + 2*pi*T_ext*alpha*ell*r_e)**3))/sqrt(-4*18**(1/3)*epsilon**(1/3)*sigma_sb**(1/3)*(P_ind + 2*pi*T_ext**4*ell*epsilon*r_e*sigma_sb + 2*pi*T_ext*alpha*ell*r_e) + 12**(1/3)*(9*pi**(3/2)*alpha**2*ell**(3/2)*r_e**(3/2) + sqrt(3)*sqrt(27*pi**3*alpha**4*ell**3*r_e**3 + 32*epsilon*sigma_sb*(P_ind + 2*pi*T_ext**4*ell*epsilon*r_e*sigma_sb + 2*pi*T_ext*alpha*ell*r_e)**3))**(2/3)) + 4*18**(1/3)*sqrt(pi)*sqrt(ell)*epsilon**(1/3)*sqrt(r_e)*sigma_sb**(1/3)*(P_ind + 2*pi*T_ext**4*ell*epsilon*r_e*sigma_sb + 2*pi*T_ext*alpha*ell*r_e) - 12**(1/3)*sqrt(pi)*sqrt(ell)*sqrt(r_e)*(9*pi**(3/2)*alpha**2*ell**(3/2)*r_e**(3/2) + sqrt(3)*sqrt(27*pi**3*alpha**4*ell**3*r_e**3 + 32*epsilon*sigma_sb*(P_ind + 2*pi*T_ext**4*ell*epsilon*r_e*sigma_sb + 2*pi*T_ext*alpha*ell*r_e)**3))**(2/3)))/(12*sqrt(pi)*sqrt(ell)*epsilon**(1/3)*sqrt(r_e)*sigma_sb**(1/3)*(9*pi**(3/2)*alpha**2*ell**(3/2)*r_e**(3/2) + sqrt(3)*sqrt(27*pi**3*alpha**4*ell**3*r_e**3 + 32*epsilon*sigma_sb*(P_ind + 2*pi*T_ext**4*ell*epsilon*r_e*sigma_sb + 2*pi*T_ext*alpha*ell*r_e)**3))**(1/6)), sqrt(6)*(pi**(1/4)*ell**(1/4)*r_e**(1/4)*sqrt(-4*18**(1/3)*epsilon**(1/3)*sigma_sb**(1/3)*(P_ind + 2*pi*T_ext**4*ell*epsilon*r_e*sigma_sb + 2*pi*T_ext*alpha*ell*r_e) + 12**(1/3)*(9*pi**(3/2)*alpha**2*ell**(3/2)*r_e**(3/2) + sqrt(3)*sqrt(27*pi**3*alpha**4*ell**3*r_e**3 + 32*epsilon*sigma_sb*(P_ind + 2*pi*T_ext**4*ell*epsilon*r_e*sigma_sb + 2*pi*T_ext*alpha*ell*r_e)**3))**(2/3)) - sqrt(-12*sqrt(6)*pi**(5/4)*alpha*ell**(5/4)*r_e**(5/4)*sqrt(9*pi**(3/2)*alpha**2*ell**(3/2)*r_e**(3/2) + sqrt(3)*sqrt(27*pi**3*alpha**4*ell**3*r_e**3 + 32*epsilon*sigma_sb*(P_ind + 2*pi*T_ext**4*ell*epsilon*r_e*sigma_sb + 2*pi*T_ext*alpha*ell*r_e)**3))/sqrt(-4*18**(1/3)*epsilon**(1/3)*sigma_sb**(1/3)*(P_ind + 2*pi*T_ext**4*ell*epsilon*r_e*sigma_sb + 2*pi*T_ext*alpha*ell*r_e) + 12**(1/3)*(9*pi**(3/2)*alpha**2*ell**(3/2)*r_e**(3/2) + sqrt(3)*sqrt(27*pi**3*alpha**4*ell**3*r_e**3 + 32*epsilon*sigma_sb*(P_ind + 2*pi*T_ext**4*ell*epsilon*r_e*sigma_sb + 2*pi*T_ext*alpha*ell*r_e)**3))**(2/3)) + 4*18**(1/3)*sqrt(pi)*sqrt(ell)*epsilon**(1/3)*sqrt(r_e)*sigma_sb**(1/3)*(P_ind + 2*pi*T_ext**4*ell*epsilon*r_e*sigma_sb + 2*pi*T_ext*alpha*ell*r_e) - 12**(1/3)*sqrt(pi)*sqrt(ell)*sqrt(r_e)*(9*pi**(3/2)*alpha**2*ell**(3/2)*r_e**(3/2) + sqrt(3)*sqrt(27*pi**3*alpha**4*ell**3*r_e**3 + 32*epsilon*sigma_sb*(P_ind + 2*pi*T_ext**4*ell*epsilon*r_e*sigma_sb + 2*pi*T_ext*alpha*ell*r_e)**3))**(2/3)))/(12*sqrt(pi)*sqrt(ell)*epsilon**(1/3)*sqrt(r_e)*sigma_sb**(1/3)*(9*pi**(3/2)*alpha**2*ell**(3/2)*r_e**(3/2) + sqrt(3)*sqrt(27*pi**3*alpha**4*ell**3*r_e**3 + 32*epsilon*sigma_sb*(P_ind + 2*pi*T_ext**4*ell*epsilon*r_e*sigma_sb + 2*pi*T_ext*alpha*ell*r_e)**3))**(1/6)), sqrt(6)*(pi**(1/4)*ell**(1/4)*r_e**(1/4)*sqrt(-4*18**(1/3)*epsilon**(1/3)*sigma_sb**(1/3)*(P_ind + 2*pi*T_ext**4*ell*epsilon*r_e*sigma_sb + 2*pi*T_ext*alpha*ell*r_e) + 12**(1/3)*(9*pi**(3/2)*alpha**2*ell**(3/2)*r_e**(3/2) + sqrt(3)*sqrt(27*pi**3*alpha**4*ell**3*r_e**3 + 32*epsilon*sigma_sb*(P_ind + 2*pi*T_ext**4*ell*epsilon*r_e*sigma_sb + 2*pi*T_ext*alpha*ell*r_e)**3))**(2/3)) + sqrt(-12*sqrt(6)*pi**(5/4)*alpha*ell**(5/4)*r_e**(5/4)*sqrt(9*pi**(3/2)*alpha**2*ell**(3/2)*r_e**(3/2) + sqrt(3)*sqrt(27*pi**3*alpha**4*ell**3*r_e**3 + 32*epsilon*sigma_sb*(P_ind + 2*pi*T_ext**4*ell*epsilon*r_e*sigma_sb + 2*pi*T_ext*alpha*ell*r_e)**3))/sqrt(-4*18**(1/3)*epsilon**(1/3)*sigma_sb**(1/3)*(P_ind + 2*pi*T_ext**4*ell*epsilon*r_e*sigma_sb + 2*pi*T_ext*alpha*ell*r_e) + 12**(1/3)*(9*pi**(3/2)*alpha**2*ell**(3/2)*r_e**(3/2) + sqrt(3)*sqrt(27*pi**3*alpha**4*ell**3*r_e**3 + 32*epsilon*sigma_sb*(P_ind + 2*pi*T_ext**4*ell*epsilon*r_e*sigma_sb + 2*pi*T_ext*alpha*ell*r_e)**3))**(2/3)) + 4*18**(1/3)*sqrt(pi)*sqrt(ell)*epsilon**(1/3)*sqrt(r_e)*sigma_sb**(1/3)*(P_ind + 2*pi*T_ext**4*ell*epsilon*r_e*sigma_sb + 2*pi*T_ext*alpha*ell*r_e) - 12**(1/3)*sqrt(pi)*sqrt(ell)*sqrt(r_e)*(9*pi**(3/2)*alpha**2*ell**(3/2)*r_e**(3/2) + sqrt(3)*sqrt(27*pi**3*alpha**4*ell**3*r_e**3 + 32*epsilon*sigma_sb*(P_ind + 2*pi*T_ext**4*ell*epsilon*r_e*sigma_sb + 2*pi*T_ext*alpha*ell*r_e)**3))**(2/3)))/(12*sqrt(pi)*sqrt(ell)*epsilon**(1/3)*sqrt(r_e)*sigma_sb**(1/3)*(9*pi**(3/2)*alpha**2*ell**(3/2)*r_e**(3/2) + sqrt(3)*sqrt(27*pi**3*alpha**4*ell**3*r_e**3 + 32*epsilon*sigma_sb*(P_ind + 2*pi*T_ext**4*ell*epsilon*r_e*sigma_sb + 2*pi*T_ext*alpha*ell*r_e)**3))**(1/6)), -sqrt(6)*(pi**(1/4)*ell**(1/4)*r_e**(1/4)*sqrt(-4*18**(1/3)*epsilon**(1/3)*sigma_sb**(1/3)*(P_ind + 2*pi*T_ext**4*ell*epsilon*r_e*sigma_sb + 2*pi*T_ext*alpha*ell*r_e) + 12**(1/3)*(9*pi**(3/2)*alpha**2*ell**(3/2)*r_e**(3/2) + sqrt(3)*sqrt(27*pi**3*alpha**4*ell**3*r_e**3 + 32*epsilon*sigma_sb*(P_ind + 2*pi*T_ext**4*ell*epsilon*r_e*sigma_sb + 2*pi*T_ext*alpha*ell*r_e)**3))**(2/3)) + sqrt(12*sqrt(6)*pi**(5/4)*alpha*ell**(5/4)*r_e**(5/4)*sqrt(9*pi**(3/2)*alpha**2*ell**(3/2)*r_e**(3/2) + sqrt(3)*sqrt(27*pi**3*alpha**4*ell**3*r_e**3 + 32*epsilon*sigma_sb*(P_ind + 2*pi*T_ext**4*ell*epsilon*r_e*sigma_sb + 2*pi*T_ext*alpha*ell*r_e)**3))/sqrt(-4*18**(1/3)*epsilon**(1/3)*sigma_sb**(1/3)*(P_ind + 2*pi*T_ext**4*ell*epsilon*r_e*sigma_sb + 2*pi*T_ext*alpha*ell*r_e) + 12**(1/3)*(9*pi**(3/2)*alpha**2*ell**(3/2)*r_e**(3/2) + sqrt(3)*sqrt(27*pi**3*alpha**4*ell**3*r_e**3 + 32*epsilon*sigma_sb*(P_ind + 2*pi*T_ext**4*ell*epsilon*r_e*sigma_sb + 2*pi*T_ext*alpha*ell*r_e)**3))**(2/3)) + 4*18**(1/3)*sqrt(pi)*sqrt(ell)*epsilon**(1/3)*sqrt(r_e)*sigma_sb**(1/3)*(P_ind + 2*pi*T_ext**4*ell*epsilon*r_e*sigma_sb + 2*pi*T_ext*alpha*ell*r_e) - 12**(1/3)*sqrt(pi)*sqrt(ell)*sqrt(r_e)*(9*pi**(3/2)*alpha**2*ell**(3/2)*r_e**(3/2) + sqrt(3)*sqrt(27*pi**3*alpha**4*ell**3*r_e**3 + 32*epsilon*sigma_sb*(P_ind + 2*pi*T_ext**4*ell*epsilon*r_e*sigma_sb + 2*pi*T_ext*alpha*ell*r_e)**3))**(2/3)))/(12*sqrt(pi)*sqrt(ell)*epsilon**(1/3)*sqrt(r_e)*sigma_sb**(1/3)*(9*pi**(3/2)*alpha**2*ell**(3/2)*r_e**(3/2) + sqrt(3)*sqrt(27*pi**3*alpha**4*ell**3*r_e**3 + 32*epsilon*sigma_sb*(P_ind + 2*pi*T_ext**4*ell*epsilon*r_e*sigma_sb + 2*pi*T_ext*alpha*ell*r_e)**3))**(1/6))}"
      ]
     },
     "metadata": {},
     "output_type": "display_data"
    },
    {
     "data": {
      "text/latex": [
       "$\\displaystyle \\left\\{-907.486239949227 + 1.02637313360026 \\cdot 10^{-42} i, 93.9023331802747 - 824.350695824799 i, 93.9023331802747 + 824.350695824799 i, 719.681573588678 + 1.294201212335 \\cdot 10^{-42} i\\right\\}$"
      ],
      "text/plain": [
       "{-907.486239949227 + 1.02637313360026e-42*I, 93.9023331802747 - 824.350695824799*I, 93.9023331802747 + 824.350695824799*I, 719.681573588678 + 1.294201212335e-42*I}"
      ]
     },
     "metadata": {},
     "output_type": "display_data"
    }
   ],
   "source": [
    "# surface temperature\n",
    "p_ind = symbols(\"P_ind\", real=True, positive=True)\n",
    "eq_t_surf = Eq(p_ind, (eps*sigma_sb*(t_surf**4 - t_ext**4)+alpha*(t_surf - t_ext))*r_e*2*pi*l)\n",
    "disp.display(eq_t_surf)\n",
    "solution = simplify(solveset(eq_t_surf, t_surf))\n",
    "disp.display(solution)\n",
    "disp.display(solution.subs(p_ind, q).subs(values).evalf(chop=True))\n",
    "# print(solution)"
   ]
  },
  {
   "cell_type": "code",
   "execution_count": 7,
   "metadata": {},
   "outputs": [
    {
     "data": {
      "text/latex": [
       "$\\displaystyle \\frac{\\sqrt{6} \\left(- \\sqrt[4]{\\pi} \\sqrt[4]{\\ell} \\sqrt[4]{r_{e}} \\sqrt{- 4 \\cdot \\sqrt[3]{18} \\sqrt[3]{\\epsilon} \\sqrt[3]{\\sigma_{sb}} \\left(P_{ind} + 2 \\pi T_{ext}^{4} \\ell \\epsilon r_{e} \\sigma_{sb} + 2 \\pi T_{ext} \\alpha \\ell r_{e}\\right) + \\sqrt[3]{12} \\left(9 \\pi^{\\frac{3}{2}} \\alpha^{2} \\ell^{\\frac{3}{2}} r_{e}^{\\frac{3}{2}} + \\sqrt{3} \\sqrt{27 \\pi^{3} \\alpha^{4} \\ell^{3} r_{e}^{3} + 32 \\epsilon \\sigma_{sb} \\left(P_{ind} + 2 \\pi T_{ext}^{4} \\ell \\epsilon r_{e} \\sigma_{sb} + 2 \\pi T_{ext} \\alpha \\ell r_{e}\\right)^{3}}\\right)^{\\frac{2}{3}}} + \\sqrt{\\frac{12 \\sqrt{6} \\pi^{\\frac{5}{4}} \\alpha \\ell^{\\frac{5}{4}} r_{e}^{\\frac{5}{4}} \\sqrt{9 \\pi^{\\frac{3}{2}} \\alpha^{2} \\ell^{\\frac{3}{2}} r_{e}^{\\frac{3}{2}} + \\sqrt{3} \\sqrt{27 \\pi^{3} \\alpha^{4} \\ell^{3} r_{e}^{3} + 32 \\epsilon \\sigma_{sb} \\left(P_{ind} + 2 \\pi T_{ext}^{4} \\ell \\epsilon r_{e} \\sigma_{sb} + 2 \\pi T_{ext} \\alpha \\ell r_{e}\\right)^{3}}}}{\\sqrt{- 4 \\cdot \\sqrt[3]{18} \\sqrt[3]{\\epsilon} \\sqrt[3]{\\sigma_{sb}} \\left(P_{ind} + 2 \\pi T_{ext}^{4} \\ell \\epsilon r_{e} \\sigma_{sb} + 2 \\pi T_{ext} \\alpha \\ell r_{e}\\right) + \\sqrt[3]{12} \\left(9 \\pi^{\\frac{3}{2}} \\alpha^{2} \\ell^{\\frac{3}{2}} r_{e}^{\\frac{3}{2}} + \\sqrt{3} \\sqrt{27 \\pi^{3} \\alpha^{4} \\ell^{3} r_{e}^{3} + 32 \\epsilon \\sigma_{sb} \\left(P_{ind} + 2 \\pi T_{ext}^{4} \\ell \\epsilon r_{e} \\sigma_{sb} + 2 \\pi T_{ext} \\alpha \\ell r_{e}\\right)^{3}}\\right)^{\\frac{2}{3}}}} + 4 \\cdot \\sqrt[3]{18} \\sqrt{\\pi} \\sqrt{\\ell} \\sqrt[3]{\\epsilon} \\sqrt{r_{e}} \\sqrt[3]{\\sigma_{sb}} \\left(P_{ind} + 2 \\pi T_{ext}^{4} \\ell \\epsilon r_{e} \\sigma_{sb} + 2 \\pi T_{ext} \\alpha \\ell r_{e}\\right) - \\sqrt[3]{12} \\sqrt{\\pi} \\sqrt{\\ell} \\sqrt{r_{e}} \\left(9 \\pi^{\\frac{3}{2}} \\alpha^{2} \\ell^{\\frac{3}{2}} r_{e}^{\\frac{3}{2}} + \\sqrt{3} \\sqrt{27 \\pi^{3} \\alpha^{4} \\ell^{3} r_{e}^{3} + 32 \\epsilon \\sigma_{sb} \\left(P_{ind} + 2 \\pi T_{ext}^{4} \\ell \\epsilon r_{e} \\sigma_{sb} + 2 \\pi T_{ext} \\alpha \\ell r_{e}\\right)^{3}}\\right)^{\\frac{2}{3}}}\\right)}{12 \\sqrt{\\pi} \\sqrt{\\ell} \\sqrt[3]{\\epsilon} \\sqrt{r_{e}} \\sqrt[3]{\\sigma_{sb}} \\sqrt[6]{9 \\pi^{\\frac{3}{2}} \\alpha^{2} \\ell^{\\frac{3}{2}} r_{e}^{\\frac{3}{2}} + \\sqrt{3} \\sqrt{27 \\pi^{3} \\alpha^{4} \\ell^{3} r_{e}^{3} + 32 \\epsilon \\sigma_{sb} \\left(P_{ind} + 2 \\pi T_{ext}^{4} \\ell \\epsilon r_{e} \\sigma_{sb} + 2 \\pi T_{ext} \\alpha \\ell r_{e}\\right)^{3}}}}$"
      ],
      "text/plain": [
       "sqrt(6)*(-pi**(1/4)*ell**(1/4)*r_e**(1/4)*sqrt(-4*18**(1/3)*epsilon**(1/3)*sigma_sb**(1/3)*(P_ind + 2*pi*T_ext**4*ell*epsilon*r_e*sigma_sb + 2*pi*T_ext*alpha*ell*r_e) + 12**(1/3)*(9*pi**(3/2)*alpha**2*ell**(3/2)*r_e**(3/2) + sqrt(3)*sqrt(27*pi**3*alpha**4*ell**3*r_e**3 + 32*epsilon*sigma_sb*(P_ind + 2*pi*T_ext**4*ell*epsilon*r_e*sigma_sb + 2*pi*T_ext*alpha*ell*r_e)**3))**(2/3)) + sqrt(12*sqrt(6)*pi**(5/4)*alpha*ell**(5/4)*r_e**(5/4)*sqrt(9*pi**(3/2)*alpha**2*ell**(3/2)*r_e**(3/2) + sqrt(3)*sqrt(27*pi**3*alpha**4*ell**3*r_e**3 + 32*epsilon*sigma_sb*(P_ind + 2*pi*T_ext**4*ell*epsilon*r_e*sigma_sb + 2*pi*T_ext*alpha*ell*r_e)**3))/sqrt(-4*18**(1/3)*epsilon**(1/3)*sigma_sb**(1/3)*(P_ind + 2*pi*T_ext**4*ell*epsilon*r_e*sigma_sb + 2*pi*T_ext*alpha*ell*r_e) + 12**(1/3)*(9*pi**(3/2)*alpha**2*ell**(3/2)*r_e**(3/2) + sqrt(3)*sqrt(27*pi**3*alpha**4*ell**3*r_e**3 + 32*epsilon*sigma_sb*(P_ind + 2*pi*T_ext**4*ell*epsilon*r_e*sigma_sb + 2*pi*T_ext*alpha*ell*r_e)**3))**(2/3)) + 4*18**(1/3)*sqrt(pi)*sqrt(ell)*epsilon**(1/3)*sqrt(r_e)*sigma_sb**(1/3)*(P_ind + 2*pi*T_ext**4*ell*epsilon*r_e*sigma_sb + 2*pi*T_ext*alpha*ell*r_e) - 12**(1/3)*sqrt(pi)*sqrt(ell)*sqrt(r_e)*(9*pi**(3/2)*alpha**2*ell**(3/2)*r_e**(3/2) + sqrt(3)*sqrt(27*pi**3*alpha**4*ell**3*r_e**3 + 32*epsilon*sigma_sb*(P_ind + 2*pi*T_ext**4*ell*epsilon*r_e*sigma_sb + 2*pi*T_ext*alpha*ell*r_e)**3))**(2/3)))/(12*sqrt(pi)*sqrt(ell)*epsilon**(1/3)*sqrt(r_e)*sigma_sb**(1/3)*(9*pi**(3/2)*alpha**2*ell**(3/2)*r_e**(3/2) + sqrt(3)*sqrt(27*pi**3*alpha**4*ell**3*r_e**3 + 32*epsilon*sigma_sb*(P_ind + 2*pi*T_ext**4*ell*epsilon*r_e*sigma_sb + 2*pi*T_ext*alpha*ell*r_e)**3))**(1/6))"
      ]
     },
     "metadata": {},
     "output_type": "display_data"
    },
    {
     "data": {
      "text/latex": [
       "$\\displaystyle \\frac{\\sqrt{6} \\left(- \\sqrt[4]{\\pi} \\sqrt[4]{\\ell} \\sqrt[4]{r_{e}} \\sqrt{\\sqrt[3]{12} a^{\\frac{2}{3}} - b} + \\sqrt{\\frac{12 \\sqrt{6} \\pi^{\\frac{5}{4}} \\sqrt{a} \\alpha \\ell^{\\frac{5}{4}} r_{e}^{\\frac{5}{4}} - \\sqrt{\\pi} \\sqrt{\\ell} \\sqrt{r_{e}} \\left(\\sqrt[3]{12} a^{\\frac{2}{3}} - b\\right)^{\\frac{3}{2}}}{\\sqrt{\\sqrt[3]{12} a^{\\frac{2}{3}} - b}}}\\right)}{12 \\sqrt{\\pi} \\sqrt[6]{a} \\sqrt{\\ell} \\sqrt[3]{\\epsilon} \\sqrt{r_{e}} \\sqrt[3]{\\sigma_{sb}}}$"
      ],
      "text/plain": [
       "sqrt(6)*(-pi**(1/4)*ell**(1/4)*r_e**(1/4)*sqrt(12**(1/3)*a**(2/3) - b) + sqrt((12*sqrt(6)*pi**(5/4)*sqrt(a)*alpha*ell**(5/4)*r_e**(5/4) - sqrt(pi)*sqrt(ell)*sqrt(r_e)*(12**(1/3)*a**(2/3) - b)**(3/2))/sqrt(12**(1/3)*a**(2/3) - b)))/(12*sqrt(pi)*a**(1/6)*sqrt(ell)*epsilon**(1/3)*sqrt(r_e)*sigma_sb**(1/3))"
      ]
     },
     "metadata": {},
     "output_type": "display_data"
    },
    {
     "data": {
      "text/latex": [
       "$\\displaystyle 719.681573588678$"
      ],
      "text/plain": [
       "719.681573588678"
      ]
     },
     "metadata": {},
     "output_type": "display_data"
    },
    {
     "name": "stdout",
     "output_type": "stream",
     "text": [
      "\\frac{\\sqrt{6} \\left(- \\sqrt[4]{\\pi} \\sqrt[4]{\\ell} \\sqrt[4]{r_{e}} \\sqrt{\\sqrt[3]{12} a^{\\frac{2}{3}} - b} + \\sqrt{\\frac{12 \\sqrt{6} \\pi^{\\frac{5}{4}} \\sqrt{a} \\alpha \\ell^{\\frac{5}{4}} r_{e}^{\\frac{5}{4}} - \\sqrt{\\pi} \\sqrt{\\ell} \\sqrt{r_{e}} \\left(\\sqrt[3]{12} a^{\\frac{2}{3}} - b\\right)^{\\frac{3}{2}}}{\\sqrt{\\sqrt[3]{12} a^{\\frac{2}{3}} - b}}}\\right)}{12 \\sqrt{\\pi} \\sqrt[6]{a} \\sqrt{\\ell} \\sqrt[3]{\\epsilon} \\sqrt{r_{e}} \\sqrt[3]{\\sigma_{sb}}}\n",
      "\n",
      "9 \\pi^{\\frac{3}{2}} \\alpha^{2} \\ell^{\\frac{3}{2}} r_{e}^{\\frac{3}{2}} + \\sqrt{3} \\sqrt{27 \\pi^{3} \\alpha^{4} \\ell^{3} r_{e}^{3} + 32 \\epsilon \\sigma_{sb} \\left(P_{ind} + 2 \\pi T_{ext}^{4} \\ell \\epsilon r_{e} \\sigma_{sb} + 2 \\pi T_{ext} \\alpha \\ell r_{e}\\right)^{3}}\n",
      "\n",
      "4 \\cdot \\sqrt[3]{18} \\sqrt[3]{\\epsilon} \\sqrt[3]{\\sigma_{sb}} \\left(P_{ind} + 2 \\pi T_{ext}^{4} \\ell \\epsilon r_{e} \\sigma_{sb} + 2 \\pi T_{ext} \\alpha \\ell r_{e}\\right)\n"
     ]
    }
   ],
   "source": [
    "# manually selected positive real-valued solution\n",
    "selected_sol = sqrt(6)*(-pi**(Rational(1, 4))*l**(Rational(1, 4))*r_e**(Rational(1, 4))*sqrt(-4*18**(Rational(1, 3))\\\n",
    "*eps**(Rational(1, 3))*sigma_sb**(Rational(1, 3))*(p_ind + 2*pi*t_ext**4*l*eps*r_e*sigma_sb\\\n",
    "+ 2*pi*t_ext*alpha*l*r_e) + 12**(Rational(1, 3))*(9*pi**(Rational(3, 2))*alpha**2*l**(Rational(3, 2))*r_e**(Rational(3, 2))\\\n",
    "+ sqrt(3)*sqrt(27*pi**3*alpha**4*l**3*r_e**3 + 32*eps*sigma_sb*(p_ind\\\n",
    "+ 2*pi*t_ext**4*l*eps*r_e*sigma_sb + 2*pi*t_ext*alpha*l*r_e)**3))**(Rational(2, 3)))\\\n",
    "+ sqrt(12*sqrt(6)*pi**(Rational(5, 4))*alpha*l**(Rational(5, 4))*r_e**(Rational(5, 4))*sqrt(9*pi**(Rational(3, 2))*alpha**2*l**(Rational(3, 2))\\\n",
    "*r_e**(Rational(3, 2)) + sqrt(3)*sqrt(27*pi**3*alpha**4*l**3*r_e**3 + 32*eps*sigma_sb*(p_ind\\\n",
    "+ 2*pi*t_ext**4*l*eps*r_e*sigma_sb + 2*pi*t_ext*alpha*l*r_e)**3))/sqrt(-4*18**(Rational(1, 3))\\\n",
    "*eps**(Rational(1, 3))*sigma_sb**(Rational(1, 3))*(p_ind + 2*pi*t_ext**4*l*eps*r_e*sigma_sb\\\n",
    "+ 2*pi*t_ext*alpha*l*r_e) + 12**(Rational(1, 3))*(9*pi**(Rational(3, 2))*alpha**2*l**(Rational(3, 2))*r_e**(Rational(3, 2))\\\n",
    "+ sqrt(3)*sqrt(27*pi**3*alpha**4*l**3*r_e**3 + 32*eps*sigma_sb*(p_ind\\\n",
    "+ 2*pi*t_ext**4*l*eps*r_e*sigma_sb + 2*pi*t_ext*alpha*l*r_e)**3))**(Rational(2, 3)))\\\n",
    "+ 4*18**(Rational(1, 3))*sqrt(pi)*sqrt(l)*eps**(Rational(1, 3))*sqrt(r_e)*sigma_sb**(Rational(1, 3))*(p_ind\\\n",
    "+ 2*pi*t_ext**4*l*eps*r_e*sigma_sb + 2*pi*t_ext*alpha*l*r_e)\\\n",
    "- 12**(Rational(1, 3))*sqrt(pi)*sqrt(l)*sqrt(r_e)*(9*pi**(Rational(3, 2))*alpha**2*l**(Rational(3, 2))*r_e**(Rational(3, 2))\\\n",
    "+ sqrt(3)*sqrt(27*pi**3*alpha**4*l**3*r_e**3 + 32*eps*sigma_sb*(p_ind\\\n",
    "+ 2*pi*t_ext**4*l*eps*r_e*sigma_sb \\\n",
    "+ 2*pi*t_ext*alpha*l*r_e)**3))**(Rational(2, 3))))/(12*sqrt(pi)*sqrt(l)*eps**(Rational(1, 3))*sqrt(r_e)\\\n",
    "*sigma_sb**(Rational(1, 3))*(9*pi**(Rational(3, 2))*alpha**2*l**(Rational(3, 2))*r_e**(Rational(3, 2)) \\\n",
    "+ sqrt(3)*sqrt(27*pi**3*alpha**4*l**3*r_e**3 + 32*eps*sigma_sb*(p_ind \\\n",
    "+ 2*pi*t_ext**4*l*eps*r_e*sigma_sb + 2*pi*t_ext*alpha*l*r_e)**3))**(Rational(1, 6)))\n",
    "\n",
    "# manually selected terms for substitution\n",
    "term1 = 9*pi**(Rational(3, 2))*alpha**2*l**(Rational(3, 2))*r_e**(Rational(3, 2))\\\n",
    "+ sqrt(3)*sqrt(27*pi**3*alpha**4*l**3*r_e**3 + 32*eps*sigma_sb*(p_ind\\\n",
    "+ 2*pi*t_ext**4*l*eps*r_e*sigma_sb + 2*pi*t_ext*alpha*l*r_e)**3)\n",
    "term2 = 4*18**(Rational(1, 3))\\\n",
    "*eps**(Rational(1, 3))*sigma_sb**(Rational(1, 3))*(p_ind + 2*pi*t_ext**4*l*eps*r_e*sigma_sb\\\n",
    "+ 2*pi*t_ext*alpha*l*r_e)\n",
    "a, b = symbols(\"a, b\")\n",
    "\n",
    "selected_sol_subs = simplify(selected_sol.subs([(term1, a), (term2, b)]))\n",
    "\n",
    "disp.display(selected_sol)\n",
    "disp.display(selected_sol_subs)\n",
    "disp.display(selected_sol_subs.subs([(a, term1), (b, term2)]).subs(p_ind, q).subs(values).evalf(chop=True))  # double check if result stays the same\n",
    "\n",
    "print(latex(selected_sol_subs))\n",
    "print()\n",
    "print(latex(term1))\n",
    "print()\n",
    "print(latex(term2))\n"
   ]
  },
  {
   "attachments": {},
   "cell_type": "markdown",
   "metadata": {},
   "source": [
    "### Try to compute temperature distribution in cylinder  - not successful"
   ]
  },
  {
   "cell_type": "code",
   "execution_count": 8,
   "metadata": {},
   "outputs": [
    {
     "data": {
      "text/latex": [
       "$\\displaystyle \\frac{d^{2}}{d r^{2}} T{\\left(r \\right)} + \\frac{\\frac{d}{d r} T{\\left(r \\right)}}{r} = - \\frac{H^{2} \\mu_{0} \\omega J_{1}\\left(\\sqrt{\\mu_{0}} \\sqrt{\\omega} r \\sqrt{\\sigma} \\sqrt{- i}\\right) J_{1}\\left(\\frac{\\sqrt{2} \\sqrt{\\mu_{0}} \\sqrt{\\omega} r \\sqrt{\\sigma}}{2} + \\frac{\\sqrt{2} i \\sqrt{\\mu_{0}} \\sqrt{\\omega} r \\sqrt{\\sigma}}{2}\\right)}{2 \\lambda J_{0}\\left(\\sqrt{\\mu_{0}} \\sqrt{\\omega} r_{e} \\sqrt{\\sigma} \\sqrt{- i}\\right) J_{0}\\left(\\frac{\\sqrt{2} \\sqrt{\\mu_{0}} \\sqrt{\\omega} r_{e} \\sqrt{\\sigma}}{2} + \\frac{\\sqrt{2} i \\sqrt{\\mu_{0}} \\sqrt{\\omega} r_{e} \\sqrt{\\sigma}}{2}\\right)}$"
      ],
      "text/plain": [
       "Eq(Derivative(T(r), (r, 2)) + Derivative(T(r), r)/r, -H**2*mu_0*omega*besselj(1, sqrt(mu_0)*sqrt(omega)*r*sqrt(sigma)*sqrt(-I))*besselj(1, sqrt(2)*sqrt(mu_0)*sqrt(omega)*r*sqrt(sigma)/2 + sqrt(2)*I*sqrt(mu_0)*sqrt(omega)*r*sqrt(sigma)/2)/(2*lambda*besselj(0, sqrt(mu_0)*sqrt(omega)*r_e*sqrt(sigma)*sqrt(-I))*besselj(0, sqrt(2)*sqrt(mu_0)*sqrt(omega)*r_e*sqrt(sigma)/2 + sqrt(2)*I*sqrt(mu_0)*sqrt(omega)*r_e*sqrt(sigma)/2)))"
      ]
     },
     "metadata": {},
     "output_type": "display_data"
    },
    {
     "data": {
      "text/latex": [
       "$\\displaystyle \\frac{d}{d r} T{\\left(0 \\right)} = 0$"
      ],
      "text/plain": [
       "Eq(Derivative(T(0), r), 0)"
      ]
     },
     "metadata": {},
     "output_type": "display_data"
    },
    {
     "data": {
      "text/latex": [
       "$\\displaystyle T{\\left(r_{e} \\right)} = T_{out}$"
      ],
      "text/plain": [
       "Eq(T(r_e), T_out)"
      ]
     },
     "metadata": {},
     "output_type": "display_data"
    },
    {
     "data": {
      "text/latex": [
       "$\\displaystyle T{\\left(r \\right)} = \\frac{\\frac{H^{2} \\left(-1 - \\sqrt{2} i \\sqrt{- i} + i\\right) J_{0}\\left(\\sqrt{\\mu_{0}} \\sqrt{\\omega} r \\sqrt{\\sigma} \\sqrt{- i}\\right) J_{0}\\left(\\frac{\\sqrt{2} \\sqrt{\\mu_{0}} \\sqrt{\\omega} r \\sqrt{\\sigma} \\left(1 + i\\right)}{2}\\right)}{8} + \\lambda \\sigma \\left(C_{2} \\log{\\left(r \\right)} - C_{2} \\log{\\left(r_{e} \\right)} + \\frac{H^{2} \\cdot \\left(1 - i\\right)}{8 \\lambda \\sigma} + \\frac{\\sqrt{2} i H^{2} \\sqrt{- i}}{8 \\lambda \\sigma} + T_{out}\\right) J_{0}\\left(\\sqrt{\\mu_{0}} \\sqrt{\\omega} r_{e} \\sqrt{\\sigma} \\sqrt{- i}\\right) J_{0}\\left(\\frac{\\sqrt{2} \\sqrt{\\mu_{0}} \\sqrt{\\omega} r_{e} \\sqrt{\\sigma} \\left(1 + i\\right)}{2}\\right)}{\\lambda \\sigma J_{0}\\left(\\sqrt{\\mu_{0}} \\sqrt{\\omega} r_{e} \\sqrt{\\sigma} \\sqrt{- i}\\right) J_{0}\\left(\\frac{\\sqrt{2} \\sqrt{\\mu_{0}} \\sqrt{\\omega} r_{e} \\sqrt{\\sigma} \\left(1 + i\\right)}{2}\\right)}$"
      ],
      "text/plain": [
       "Eq(T(r), (H**2*(-1 - sqrt(2)*I*sqrt(-I) + I)*besselj(0, sqrt(mu_0)*sqrt(omega)*r*sqrt(sigma)*sqrt(-I))*besselj(0, sqrt(2)*sqrt(mu_0)*sqrt(omega)*r*sqrt(sigma)*(1 + I)/2)/8 + lambda*sigma*(C2*log(r) - C2*log(r_e) + H**2*(1 - I)/(8*lambda*sigma) + sqrt(2)*I*H**2*sqrt(-I)/(8*lambda*sigma) + T_out)*besselj(0, sqrt(mu_0)*sqrt(omega)*r_e*sqrt(sigma)*sqrt(-I))*besselj(0, sqrt(2)*sqrt(mu_0)*sqrt(omega)*r_e*sqrt(sigma)*(1 + I)/2))/(lambda*sigma*besselj(0, sqrt(mu_0)*sqrt(omega)*r_e*sqrt(sigma)*sqrt(-I))*besselj(0, sqrt(2)*sqrt(mu_0)*sqrt(omega)*r_e*sqrt(sigma)*(1 + I)/2)))"
      ]
     },
     "metadata": {},
     "output_type": "display_data"
    }
   ],
   "source": [
    "t_out = symbols(\"T_out\")  # surface temperature\n",
    "\n",
    "t = symbols(\"T\", cls=Function)  # temperature distribution T=f(r)\n",
    "h_r = symbols(\"h\", cls=Function)  # heat source T=f(r)\n",
    "diffeq = Eq(diff(t(r), r, r) + 1/r *diff(t(r), r), -h/lmbd)\n",
    "disp.display(diffeq)\n",
    "disp.display(Eq(Derivative(t(0), r), 0))\n",
    "disp.display(Eq(t(r_e), t_out))\n",
    "\n",
    "# # solve without boundary condition - works\n",
    "# t_solution_raw = dsolve(diffeq, t(r))\n",
    "# disp.display(t_solution_raw) \n",
    "\n",
    "# # solve with first boundary condition - works\n",
    "t_solution = dsolve(diffeq, t(r), ics={t(r_e): t_out})  # works\n",
    "disp.display(t_solution)\n",
    "\n",
    "# # solve with second boundary condition - fails\n",
    "# t_solution = dsolve(diffeq, t(r), ics={t(r).diff(r).subs(r, 0): 0})  # fails\n",
    "\n",
    "# full solution - fails\n",
    "# t_solution = dsolve(diffeq, t(r), ics={t(r_e): t_out, t(r).diff(r).subs(r, 0): 0})\n",
    "# disp.display(t_solution)"
   ]
  }
 ],
 "metadata": {
  "kernelspec": {
   "display_name": "base",
   "language": "python",
   "name": "python3"
  },
  "language_info": {
   "codemirror_mode": {
    "name": "ipython",
    "version": 3
   },
   "file_extension": ".py",
   "mimetype": "text/x-python",
   "name": "python",
   "nbconvert_exporter": "python",
   "pygments_lexer": "ipython3",
   "version": "3.8.5"
  },
  "orig_nbformat": 4,
  "vscode": {
   "interpreter": {
    "hash": "3fe79ebdfe5b0c72d7b55e99635ccc24fad9d3af4b308f4d9c40912519481577"
   }
  }
 },
 "nbformat": 4,
 "nbformat_minor": 2
}
